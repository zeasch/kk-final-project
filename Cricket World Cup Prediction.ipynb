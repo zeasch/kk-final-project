{
  "cells": [
    {
      "cell_type": "markdown",
      "metadata": {
        "id": "utylU_g5SVif"
      },
      "source": [
        "# **CRICKET WORLD CUP PREDICTION**\n",
        "\n",
        "Dido Fabian Fayed\t\t05111940000059  \n",
        "Fayha Syifa Qalbi\t\t05111940000185  \n",
        "Kirana Zea S M\t\t\t05111940000081 "
      ]
    },
    {
      "cell_type": "markdown",
      "metadata": {
        "id": "OXPuLr9sSpWt"
      },
      "source": [
        "**TUJUAN**\n",
        "\n",
        "Tujuan dari program ini adalah untuk memprediksi tim manakah yang memiliki peluang terbesar menjadi juara ICC World Cup 2019"
      ]
    },
    {
      "cell_type": "markdown",
      "metadata": {
        "id": "L_IAW8fZUTAH"
      },
      "source": [
        "**DATASETS**\n",
        "\n",
        "Dataset yang digunakan pada program ini adalah:  \n",
        "* World Cup 2019 Dataset yang berisi riwayat permainan tim pada world cup \n",
        "sebelumnya.\n",
        "* Results yang berisi hasil pertandingan dari tahun 2010 hingga 2017,( Terdapat 996 data pertandingan).\n",
        "* Fixtures,  \n",
        "Dataset ini berisi informasi tiap pertandingan tahun 2019, dengan 48 data pertandingan. \n",
        "* ICC Rankings,  \n",
        "Dataset ini berisi rank dan points yang didapatkan tiap tim.(Terdapat 10 tim, yaitu England, India, South Africa, New Zealand, Astralia, Pakistan, Bangladesh, West Indies, Sri Langka, dan Afganistan) \n"
      ]
    },
    {
      "cell_type": "markdown",
      "metadata": {
        "id": "oMaRgAq7VvIE"
      },
      "source": [
        "**WORKFLOW**\n",
        "\n",
        "Secara garis besar, program akan mengikuti workflow sebagai berikut:  \n",
        "\n",
        "\n",
        "1.   Data cleaning dan formatting\n",
        "2.   Exploratory data analysis\n",
        "3.   Feature engineering dan selection\n",
        "4.   Membandingkan performance beberapa algoritma classification terhadap model\n",
        "5.   Mengevaluasi model terbaik pada test set\n",
        "6.   Interpretasi hasil model\n",
        "6.   Kesimpulan\n",
        "\n"
      ]
    },
    {
      "cell_type": "markdown",
      "metadata": {
        "id": "H0-G8o7vW-K9"
      },
      "source": [
        "**PENJELASAN KODE**\n",
        "\n",
        "  \n",
        "Import library yang dibutuhkan"
      ]
    },
    {
      "cell_type": "code",
      "execution_count": 3,
      "metadata": {
        "id": "UapOoPkoBaqT"
      },
      "outputs": [],
      "source": [
        "\n",
        "import pandas as pd\n",
        "import numpy as np\n",
        "import matplotlib.pyplot as plt\n",
        "import seaborn as sns\n",
        "import matplotlib.ticker as ticker\n",
        "import matplotlib.ticker as plticker\n",
        "from sklearn.model_selection import train_test_split\n",
        "from sklearn.ensemble import RandomForestClassifier\n",
        "from sklearn.linear_model import LogisticRegression\n",
        "from sklearn.svm import SVC\n",
        "from sklearn.neighbors import KNeighborsClassifier\n",
        "from xgboost import XGBClassifier\n",
        "from sklearn.datasets import make_classification\n",
        "from sklearn.metrics import confusion_matrix, classification_report\n",
        "from google.colab import files\n"
      ]
    },
    {
      "cell_type": "markdown",
      "metadata": {
        "id": "fhBV-aLjwN1K"
      },
      "source": [
        "Load Dataset World Cup 2019 Dataset.csv dan Results.csv"
      ]
    },
    {
      "cell_type": "code",
      "execution_count": 6,
      "metadata": {
        "colab": {
          "base_uri": "https://localhost:8080/",
          "height": 130,
          "resources": {
            "http://localhost:8080/nbextensions/google.colab/files.js": {
              "data": "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",
              "headers": [
                [
                  "content-type",
                  "application/javascript"
                ]
              ],
              "ok": true,
              "status": 200,
              "status_text": ""
            }
          }
        },
        "id": "KtKIIsGcBaqW",
        "outputId": "c0ee1ada-2aa7-4017-d735-cfa69bec8621"
      },
      "outputs": [
        {
          "output_type": "display_data",
          "data": {
            "text/html": [
              "\n",
              "     <input type=\"file\" id=\"files-0c1ddf41-8113-489a-94b2-c1ad68d704cb\" name=\"files[]\" multiple disabled\n",
              "        style=\"border:none\" />\n",
              "     <output id=\"result-0c1ddf41-8113-489a-94b2-c1ad68d704cb\">\n",
              "      Upload widget is only available when the cell has been executed in the\n",
              "      current browser session. Please rerun this cell to enable.\n",
              "      </output>\n",
              "      <script src=\"/nbextensions/google.colab/files.js\"></script> "
            ],
            "text/plain": [
              "<IPython.core.display.HTML object>"
            ]
          },
          "metadata": {}
        },
        {
          "output_type": "stream",
          "name": "stdout",
          "text": [
            "Saving World Cup 2019 Dataset.csv to World Cup 2019 Dataset.csv\n"
          ]
        },
        {
          "output_type": "display_data",
          "data": {
            "text/html": [
              "\n",
              "     <input type=\"file\" id=\"files-8ac569cf-9c8e-44a5-b754-65e034a2fda8\" name=\"files[]\" multiple disabled\n",
              "        style=\"border:none\" />\n",
              "     <output id=\"result-8ac569cf-9c8e-44a5-b754-65e034a2fda8\">\n",
              "      Upload widget is only available when the cell has been executed in the\n",
              "      current browser session. Please rerun this cell to enable.\n",
              "      </output>\n",
              "      <script src=\"/nbextensions/google.colab/files.js\"></script> "
            ],
            "text/plain": [
              "<IPython.core.display.HTML object>"
            ]
          },
          "metadata": {}
        },
        {
          "output_type": "stream",
          "name": "stdout",
          "text": [
            "Saving results.csv to results.csv\n"
          ]
        }
      ],
      "source": [
        "\n",
        "uploaded = files.upload()\n",
        "uploaded = files.upload()\n",
        "\n",
        "world_cup = pd.read_csv('World Cup 2019 Dataset.csv')\n",
        "results = pd.read_csv('results.csv')\n"
      ]
    },
    {
      "cell_type": "code",
      "execution_count": 7,
      "metadata": {
        "colab": {
          "base_uri": "https://localhost:8080/",
          "height": 363
        },
        "id": "arwyVzuBBaqX",
        "outputId": "064c428a-934b-45c2-b202-dc103f6158f1"
      },
      "outputs": [
        {
          "output_type": "execute_result",
          "data": {
            "text/html": [
              "<div>\n",
              "<style scoped>\n",
              "    .dataframe tbody tr th:only-of-type {\n",
              "        vertical-align: middle;\n",
              "    }\n",
              "\n",
              "    .dataframe tbody tr th {\n",
              "        vertical-align: top;\n",
              "    }\n",
              "\n",
              "    .dataframe thead th {\n",
              "        text-align: right;\n",
              "    }\n",
              "</style>\n",
              "<table border=\"1\" class=\"dataframe\">\n",
              "  <thead>\n",
              "    <tr style=\"text-align: right;\">\n",
              "      <th></th>\n",
              "      <th>Team</th>\n",
              "      <th>Group</th>\n",
              "      <th>Previous \\r\\nappearances</th>\n",
              "      <th>Previous \\r\\ntitles</th>\n",
              "      <th>Previous\\r\\n finals</th>\n",
              "      <th>Previous\\r\\n semifinals</th>\n",
              "      <th>Current \\r rank</th>\n",
              "    </tr>\n",
              "  </thead>\n",
              "  <tbody>\n",
              "    <tr>\n",
              "      <th>0</th>\n",
              "      <td>England</td>\n",
              "      <td>A</td>\n",
              "      <td>11</td>\n",
              "      <td>0</td>\n",
              "      <td>3</td>\n",
              "      <td>5</td>\n",
              "      <td>1</td>\n",
              "    </tr>\n",
              "    <tr>\n",
              "      <th>1</th>\n",
              "      <td>South Africa</td>\n",
              "      <td>A</td>\n",
              "      <td>6</td>\n",
              "      <td>0</td>\n",
              "      <td>0</td>\n",
              "      <td>4</td>\n",
              "      <td>3</td>\n",
              "    </tr>\n",
              "    <tr>\n",
              "      <th>2</th>\n",
              "      <td>West Indies</td>\n",
              "      <td>A</td>\n",
              "      <td>11</td>\n",
              "      <td>2</td>\n",
              "      <td>3</td>\n",
              "      <td>4</td>\n",
              "      <td>8</td>\n",
              "    </tr>\n",
              "    <tr>\n",
              "      <th>3</th>\n",
              "      <td>Pakistan</td>\n",
              "      <td>A</td>\n",
              "      <td>11</td>\n",
              "      <td>1</td>\n",
              "      <td>2</td>\n",
              "      <td>6</td>\n",
              "      <td>6</td>\n",
              "    </tr>\n",
              "    <tr>\n",
              "      <th>4</th>\n",
              "      <td>New Zealand</td>\n",
              "      <td>A</td>\n",
              "      <td>11</td>\n",
              "      <td>0</td>\n",
              "      <td>1</td>\n",
              "      <td>7</td>\n",
              "      <td>4</td>\n",
              "    </tr>\n",
              "    <tr>\n",
              "      <th>5</th>\n",
              "      <td>Sri Lanka</td>\n",
              "      <td>A</td>\n",
              "      <td>11</td>\n",
              "      <td>1</td>\n",
              "      <td>3</td>\n",
              "      <td>4</td>\n",
              "      <td>9</td>\n",
              "    </tr>\n",
              "    <tr>\n",
              "      <th>6</th>\n",
              "      <td>Afghanistan</td>\n",
              "      <td>A</td>\n",
              "      <td>1</td>\n",
              "      <td>0</td>\n",
              "      <td>0</td>\n",
              "      <td>0</td>\n",
              "      <td>10</td>\n",
              "    </tr>\n",
              "    <tr>\n",
              "      <th>7</th>\n",
              "      <td>Australia</td>\n",
              "      <td>A</td>\n",
              "      <td>11</td>\n",
              "      <td>5</td>\n",
              "      <td>6</td>\n",
              "      <td>7</td>\n",
              "      <td>5</td>\n",
              "    </tr>\n",
              "    <tr>\n",
              "      <th>8</th>\n",
              "      <td>Bangladesh</td>\n",
              "      <td>A</td>\n",
              "      <td>5</td>\n",
              "      <td>0</td>\n",
              "      <td>0</td>\n",
              "      <td>0</td>\n",
              "      <td>7</td>\n",
              "    </tr>\n",
              "    <tr>\n",
              "      <th>9</th>\n",
              "      <td>India</td>\n",
              "      <td>A</td>\n",
              "      <td>11</td>\n",
              "      <td>2</td>\n",
              "      <td>3</td>\n",
              "      <td>6</td>\n",
              "      <td>2</td>\n",
              "    </tr>\n",
              "  </tbody>\n",
              "</table>\n",
              "</div>"
            ],
            "text/plain": [
              "           Team Group  ...  Previous\\r\\n semifinals  Current \\r rank\n",
              "0       England     A  ...                        5                1\n",
              "1  South Africa     A  ...                        4                3\n",
              "2   West Indies     A  ...                        4                8\n",
              "3      Pakistan     A  ...                        6                6\n",
              "4   New Zealand     A  ...                        7                4\n",
              "5     Sri Lanka     A  ...                        4                9\n",
              "6   Afghanistan     A  ...                        0               10\n",
              "7     Australia     A  ...                        7                5\n",
              "8    Bangladesh     A  ...                        0                7\n",
              "9         India     A  ...                        6                2\n",
              "\n",
              "[10 rows x 7 columns]"
            ]
          },
          "metadata": {},
          "execution_count": 7
        }
      ],
      "source": [
        "\n",
        "world_cup.head(10)\n"
      ]
    },
    {
      "cell_type": "code",
      "execution_count": 8,
      "metadata": {
        "colab": {
          "base_uri": "https://localhost:8080/",
          "height": 363
        },
        "id": "qoaTiNyuBaqX",
        "outputId": "ae749b35-37d5-4f6c-d336-5cbaf1c94799"
      },
      "outputs": [
        {
          "output_type": "execute_result",
          "data": {
            "text/html": [
              "<div>\n",
              "<style scoped>\n",
              "    .dataframe tbody tr th:only-of-type {\n",
              "        vertical-align: middle;\n",
              "    }\n",
              "\n",
              "    .dataframe tbody tr th {\n",
              "        vertical-align: top;\n",
              "    }\n",
              "\n",
              "    .dataframe thead th {\n",
              "        text-align: right;\n",
              "    }\n",
              "</style>\n",
              "<table border=\"1\" class=\"dataframe\">\n",
              "  <thead>\n",
              "    <tr style=\"text-align: right;\">\n",
              "      <th></th>\n",
              "      <th>date</th>\n",
              "      <th>Team_1</th>\n",
              "      <th>Team_2</th>\n",
              "      <th>Winner</th>\n",
              "      <th>Margin</th>\n",
              "      <th>Ground</th>\n",
              "    </tr>\n",
              "  </thead>\n",
              "  <tbody>\n",
              "    <tr>\n",
              "      <th>0</th>\n",
              "      <td>4-Jan-10</td>\n",
              "      <td>Bangladesh</td>\n",
              "      <td>Sri Lanka</td>\n",
              "      <td>Sri Lanka</td>\n",
              "      <td>7 wickets</td>\n",
              "      <td>Dhaka</td>\n",
              "    </tr>\n",
              "    <tr>\n",
              "      <th>1</th>\n",
              "      <td>5-Jan-10</td>\n",
              "      <td>India</td>\n",
              "      <td>Sri Lanka</td>\n",
              "      <td>Sri Lanka</td>\n",
              "      <td>5 wickets</td>\n",
              "      <td>Dhaka</td>\n",
              "    </tr>\n",
              "    <tr>\n",
              "      <th>2</th>\n",
              "      <td>7-Jan-10</td>\n",
              "      <td>Bangladesh</td>\n",
              "      <td>India</td>\n",
              "      <td>India</td>\n",
              "      <td>6 wickets</td>\n",
              "      <td>Dhaka</td>\n",
              "    </tr>\n",
              "    <tr>\n",
              "      <th>3</th>\n",
              "      <td>8-Jan-10</td>\n",
              "      <td>Bangladesh</td>\n",
              "      <td>Sri Lanka</td>\n",
              "      <td>Sri Lanka</td>\n",
              "      <td>9 wickets</td>\n",
              "      <td>Dhaka</td>\n",
              "    </tr>\n",
              "    <tr>\n",
              "      <th>4</th>\n",
              "      <td>10-Jan-10</td>\n",
              "      <td>India</td>\n",
              "      <td>Sri Lanka</td>\n",
              "      <td>India</td>\n",
              "      <td>8 wickets</td>\n",
              "      <td>Dhaka</td>\n",
              "    </tr>\n",
              "    <tr>\n",
              "      <th>5</th>\n",
              "      <td>11-Jan-10</td>\n",
              "      <td>Bangladesh</td>\n",
              "      <td>India</td>\n",
              "      <td>India</td>\n",
              "      <td>6 wickets</td>\n",
              "      <td>Dhaka</td>\n",
              "    </tr>\n",
              "    <tr>\n",
              "      <th>6</th>\n",
              "      <td>13-Jan-10</td>\n",
              "      <td>India</td>\n",
              "      <td>Sri Lanka</td>\n",
              "      <td>Sri Lanka</td>\n",
              "      <td>4 wickets</td>\n",
              "      <td>Dhaka</td>\n",
              "    </tr>\n",
              "    <tr>\n",
              "      <th>7</th>\n",
              "      <td>22-Jan-10</td>\n",
              "      <td>Australia</td>\n",
              "      <td>Pakistan</td>\n",
              "      <td>Australia</td>\n",
              "      <td>5 wickets</td>\n",
              "      <td>Brisbane</td>\n",
              "    </tr>\n",
              "    <tr>\n",
              "      <th>8</th>\n",
              "      <td>24-Jan-10</td>\n",
              "      <td>Australia</td>\n",
              "      <td>Pakistan</td>\n",
              "      <td>Australia</td>\n",
              "      <td>140 runs</td>\n",
              "      <td>Sydney</td>\n",
              "    </tr>\n",
              "    <tr>\n",
              "      <th>9</th>\n",
              "      <td>26-Jan-10</td>\n",
              "      <td>Australia</td>\n",
              "      <td>Pakistan</td>\n",
              "      <td>Australia</td>\n",
              "      <td>40 runs</td>\n",
              "      <td>Adelaide</td>\n",
              "    </tr>\n",
              "  </tbody>\n",
              "</table>\n",
              "</div>"
            ],
            "text/plain": [
              "        date      Team_1     Team_2     Winner     Margin    Ground\n",
              "0   4-Jan-10  Bangladesh  Sri Lanka  Sri Lanka  7 wickets     Dhaka\n",
              "1   5-Jan-10       India  Sri Lanka  Sri Lanka  5 wickets     Dhaka\n",
              "2   7-Jan-10  Bangladesh      India      India  6 wickets     Dhaka\n",
              "3   8-Jan-10  Bangladesh  Sri Lanka  Sri Lanka  9 wickets     Dhaka\n",
              "4  10-Jan-10       India  Sri Lanka      India  8 wickets     Dhaka\n",
              "5  11-Jan-10  Bangladesh      India      India  6 wickets     Dhaka\n",
              "6  13-Jan-10       India  Sri Lanka  Sri Lanka  4 wickets     Dhaka\n",
              "7  22-Jan-10   Australia   Pakistan  Australia  5 wickets  Brisbane\n",
              "8  24-Jan-10   Australia   Pakistan  Australia   140 runs    Sydney\n",
              "9  26-Jan-10   Australia   Pakistan  Australia    40 runs  Adelaide"
            ]
          },
          "metadata": {},
          "execution_count": 8
        }
      ],
      "source": [
        "\n",
        "results.head(10)\n"
      ]
    },
    {
      "cell_type": "markdown",
      "metadata": {
        "id": "x1BFofQPx79s"
      },
      "source": [
        "**DATA CLEANING DAN FORMATTING**  \n",
        "  \n",
        "Pada section ini kita gunakan tim India sebagai contoh.  \n",
        "Display detail pertandingan tim India"
      ]
    },
    {
      "cell_type": "code",
      "execution_count": 9,
      "metadata": {
        "colab": {
          "base_uri": "https://localhost:8080/",
          "height": 363
        },
        "id": "3-2_WdTVBaqY",
        "outputId": "3303396e-f740-4bd9-ce48-814885e80fad"
      },
      "outputs": [
        {
          "output_type": "execute_result",
          "data": {
            "text/html": [
              "<div>\n",
              "<style scoped>\n",
              "    .dataframe tbody tr th:only-of-type {\n",
              "        vertical-align: middle;\n",
              "    }\n",
              "\n",
              "    .dataframe tbody tr th {\n",
              "        vertical-align: top;\n",
              "    }\n",
              "\n",
              "    .dataframe thead th {\n",
              "        text-align: right;\n",
              "    }\n",
              "</style>\n",
              "<table border=\"1\" class=\"dataframe\">\n",
              "  <thead>\n",
              "    <tr style=\"text-align: right;\">\n",
              "      <th></th>\n",
              "      <th>date</th>\n",
              "      <th>Team_1</th>\n",
              "      <th>Team_2</th>\n",
              "      <th>Winner</th>\n",
              "      <th>Margin</th>\n",
              "      <th>Ground</th>\n",
              "    </tr>\n",
              "  </thead>\n",
              "  <tbody>\n",
              "    <tr>\n",
              "      <th>1</th>\n",
              "      <td>5-Jan-10</td>\n",
              "      <td>India</td>\n",
              "      <td>Sri Lanka</td>\n",
              "      <td>Sri Lanka</td>\n",
              "      <td>5 wickets</td>\n",
              "      <td>Dhaka</td>\n",
              "    </tr>\n",
              "    <tr>\n",
              "      <th>2</th>\n",
              "      <td>7-Jan-10</td>\n",
              "      <td>Bangladesh</td>\n",
              "      <td>India</td>\n",
              "      <td>India</td>\n",
              "      <td>6 wickets</td>\n",
              "      <td>Dhaka</td>\n",
              "    </tr>\n",
              "    <tr>\n",
              "      <th>4</th>\n",
              "      <td>10-Jan-10</td>\n",
              "      <td>India</td>\n",
              "      <td>Sri Lanka</td>\n",
              "      <td>India</td>\n",
              "      <td>8 wickets</td>\n",
              "      <td>Dhaka</td>\n",
              "    </tr>\n",
              "    <tr>\n",
              "      <th>5</th>\n",
              "      <td>11-Jan-10</td>\n",
              "      <td>Bangladesh</td>\n",
              "      <td>India</td>\n",
              "      <td>India</td>\n",
              "      <td>6 wickets</td>\n",
              "      <td>Dhaka</td>\n",
              "    </tr>\n",
              "    <tr>\n",
              "      <th>6</th>\n",
              "      <td>13-Jan-10</td>\n",
              "      <td>India</td>\n",
              "      <td>Sri Lanka</td>\n",
              "      <td>Sri Lanka</td>\n",
              "      <td>4 wickets</td>\n",
              "      <td>Dhaka</td>\n",
              "    </tr>\n",
              "    <tr>\n",
              "      <th>24</th>\n",
              "      <td>21-Feb-10</td>\n",
              "      <td>India</td>\n",
              "      <td>South Africa</td>\n",
              "      <td>India</td>\n",
              "      <td>1 run</td>\n",
              "      <td>Jaipur</td>\n",
              "    </tr>\n",
              "    <tr>\n",
              "      <th>25</th>\n",
              "      <td>24-Feb-10</td>\n",
              "      <td>India</td>\n",
              "      <td>South Africa</td>\n",
              "      <td>India</td>\n",
              "      <td>153 runs</td>\n",
              "      <td>Gwalior</td>\n",
              "    </tr>\n",
              "    <tr>\n",
              "      <th>26</th>\n",
              "      <td>27-Feb-10</td>\n",
              "      <td>India</td>\n",
              "      <td>South Africa</td>\n",
              "      <td>South Africa</td>\n",
              "      <td>90 runs</td>\n",
              "      <td>Ahmedabad</td>\n",
              "    </tr>\n",
              "    <tr>\n",
              "      <th>44</th>\n",
              "      <td>28-May-10</td>\n",
              "      <td>Zimbabwe</td>\n",
              "      <td>India</td>\n",
              "      <td>Zimbabwe</td>\n",
              "      <td>6 wickets</td>\n",
              "      <td>Bulawayo</td>\n",
              "    </tr>\n",
              "    <tr>\n",
              "      <th>46</th>\n",
              "      <td>30-May-10</td>\n",
              "      <td>India</td>\n",
              "      <td>Sri Lanka</td>\n",
              "      <td>India</td>\n",
              "      <td>7 wickets</td>\n",
              "      <td>Bulawayo</td>\n",
              "    </tr>\n",
              "  </tbody>\n",
              "</table>\n",
              "</div>"
            ],
            "text/plain": [
              "         date      Team_1        Team_2        Winner     Margin     Ground\n",
              "1    5-Jan-10       India     Sri Lanka     Sri Lanka  5 wickets      Dhaka\n",
              "2    7-Jan-10  Bangladesh         India         India  6 wickets      Dhaka\n",
              "4   10-Jan-10       India     Sri Lanka         India  8 wickets      Dhaka\n",
              "5   11-Jan-10  Bangladesh         India         India  6 wickets      Dhaka\n",
              "6   13-Jan-10       India     Sri Lanka     Sri Lanka  4 wickets      Dhaka\n",
              "24  21-Feb-10       India  South Africa         India      1 run     Jaipur\n",
              "25  24-Feb-10       India  South Africa         India   153 runs    Gwalior\n",
              "26  27-Feb-10       India  South Africa  South Africa    90 runs  Ahmedabad\n",
              "44  28-May-10    Zimbabwe         India      Zimbabwe  6 wickets   Bulawayo\n",
              "46  30-May-10       India     Sri Lanka         India  7 wickets   Bulawayo"
            ]
          },
          "metadata": {},
          "execution_count": 9
        }
      ],
      "source": [
        "\n",
        "df = results[(results['Team_1'] == 'India') | (results['Team_2'] == 'India')]\n",
        "india = df.iloc[:]\n",
        "india.head(10)\n"
      ]
    },
    {
      "cell_type": "markdown",
      "metadata": {
        "id": "aaLHiJzOyTBt"
      },
      "source": [
        "Display detail pertandingan yang terjadi pada 2010"
      ]
    },
    {
      "cell_type": "code",
      "execution_count": 10,
      "metadata": {
        "colab": {
          "base_uri": "https://localhost:8080/"
        },
        "id": "9e3L4x3YBaqY",
        "outputId": "f4083c26-1a89-49b3-c10b-581537ac25ff"
      },
      "outputs": [
        {
          "output_type": "execute_result",
          "data": {
            "text/plain": [
              "date          151\n",
              "Team_1        151\n",
              "Team_2        151\n",
              "Winner        151\n",
              "Margin        142\n",
              "Ground        151\n",
              "match_year    151\n",
              "dtype: int64"
            ]
          },
          "metadata": {},
          "execution_count": 10
        }
      ],
      "source": [
        "\n",
        "df = results[(results['Team_1'] == 'India') | (results['Team_2'] == 'India')]\n",
        "india = df.iloc[:]\n",
        "year = []\n",
        "for row in india['date']:\n",
        "    year.append(int(row[7:]))\n",
        "india ['match_year']= year\n",
        "india_2010 = india[india.match_year >= 10]\n",
        "india_2010.count()\n"
      ]
    },
    {
      "cell_type": "markdown",
      "metadata": {
        "id": "F6ZcskThy5ew"
      },
      "source": [
        "**EXPLORATORY DATA ANALYSIS**\n",
        "\n",
        "Menggabungkan detail tim yang bertanding tahun ini dengan data hasil pertandingan tahun-tahun sebelumnya"
      ]
    },
    {
      "cell_type": "code",
      "execution_count": 11,
      "metadata": {
        "colab": {
          "base_uri": "https://localhost:8080/"
        },
        "id": "hULJfuS3BaqZ",
        "outputId": "8ad58325-f3e4-4381-b1fa-ae0ee8849b82"
      },
      "outputs": [
        {
          "output_type": "execute_result",
          "data": {
            "text/plain": [
              "date      1445\n",
              "Team_1    1445\n",
              "Team_2    1445\n",
              "Winner    1445\n",
              "Margin    1368\n",
              "Ground    1445\n",
              "dtype: int64"
            ]
          },
          "metadata": {},
          "execution_count": 11
        }
      ],
      "source": [
        "\n",
        "worldcup_teams = ['England', ' South Africa', '', 'West Indies', \n",
        "            'Pakistan', 'New Zealand', 'Sri Lanka', 'Afghanistan', \n",
        "            'Australia', 'Bangladesh', 'India']\n",
        "df_teams_1 = results[results['Team_1'].isin(worldcup_teams)]\n",
        "df_teams_2 = results[results['Team_2'].isin(worldcup_teams)]\n",
        "df_teams = pd.concat((df_teams_1, df_teams_2))\n",
        "df_teams.drop_duplicates()\n",
        "df_teams.count()\n"
      ]
    },
    {
      "cell_type": "code",
      "execution_count": 12,
      "metadata": {
        "colab": {
          "base_uri": "https://localhost:8080/",
          "height": 363
        },
        "id": "AE6EdahSBaqZ",
        "outputId": "0d8e6361-fde5-4337-ddc6-afc2eaff195f"
      },
      "outputs": [
        {
          "output_type": "execute_result",
          "data": {
            "text/html": [
              "<div>\n",
              "<style scoped>\n",
              "    .dataframe tbody tr th:only-of-type {\n",
              "        vertical-align: middle;\n",
              "    }\n",
              "\n",
              "    .dataframe tbody tr th {\n",
              "        vertical-align: top;\n",
              "    }\n",
              "\n",
              "    .dataframe thead th {\n",
              "        text-align: right;\n",
              "    }\n",
              "</style>\n",
              "<table border=\"1\" class=\"dataframe\">\n",
              "  <thead>\n",
              "    <tr style=\"text-align: right;\">\n",
              "      <th></th>\n",
              "      <th>date</th>\n",
              "      <th>Team_1</th>\n",
              "      <th>Team_2</th>\n",
              "      <th>Winner</th>\n",
              "      <th>Margin</th>\n",
              "      <th>Ground</th>\n",
              "    </tr>\n",
              "  </thead>\n",
              "  <tbody>\n",
              "    <tr>\n",
              "      <th>0</th>\n",
              "      <td>4-Jan-10</td>\n",
              "      <td>Bangladesh</td>\n",
              "      <td>Sri Lanka</td>\n",
              "      <td>Sri Lanka</td>\n",
              "      <td>7 wickets</td>\n",
              "      <td>Dhaka</td>\n",
              "    </tr>\n",
              "    <tr>\n",
              "      <th>1</th>\n",
              "      <td>5-Jan-10</td>\n",
              "      <td>India</td>\n",
              "      <td>Sri Lanka</td>\n",
              "      <td>Sri Lanka</td>\n",
              "      <td>5 wickets</td>\n",
              "      <td>Dhaka</td>\n",
              "    </tr>\n",
              "    <tr>\n",
              "      <th>2</th>\n",
              "      <td>7-Jan-10</td>\n",
              "      <td>Bangladesh</td>\n",
              "      <td>India</td>\n",
              "      <td>India</td>\n",
              "      <td>6 wickets</td>\n",
              "      <td>Dhaka</td>\n",
              "    </tr>\n",
              "    <tr>\n",
              "      <th>3</th>\n",
              "      <td>8-Jan-10</td>\n",
              "      <td>Bangladesh</td>\n",
              "      <td>Sri Lanka</td>\n",
              "      <td>Sri Lanka</td>\n",
              "      <td>9 wickets</td>\n",
              "      <td>Dhaka</td>\n",
              "    </tr>\n",
              "    <tr>\n",
              "      <th>4</th>\n",
              "      <td>10-Jan-10</td>\n",
              "      <td>India</td>\n",
              "      <td>Sri Lanka</td>\n",
              "      <td>India</td>\n",
              "      <td>8 wickets</td>\n",
              "      <td>Dhaka</td>\n",
              "    </tr>\n",
              "    <tr>\n",
              "      <th>5</th>\n",
              "      <td>11-Jan-10</td>\n",
              "      <td>Bangladesh</td>\n",
              "      <td>India</td>\n",
              "      <td>India</td>\n",
              "      <td>6 wickets</td>\n",
              "      <td>Dhaka</td>\n",
              "    </tr>\n",
              "    <tr>\n",
              "      <th>6</th>\n",
              "      <td>13-Jan-10</td>\n",
              "      <td>India</td>\n",
              "      <td>Sri Lanka</td>\n",
              "      <td>Sri Lanka</td>\n",
              "      <td>4 wickets</td>\n",
              "      <td>Dhaka</td>\n",
              "    </tr>\n",
              "    <tr>\n",
              "      <th>7</th>\n",
              "      <td>22-Jan-10</td>\n",
              "      <td>Australia</td>\n",
              "      <td>Pakistan</td>\n",
              "      <td>Australia</td>\n",
              "      <td>5 wickets</td>\n",
              "      <td>Brisbane</td>\n",
              "    </tr>\n",
              "    <tr>\n",
              "      <th>8</th>\n",
              "      <td>24-Jan-10</td>\n",
              "      <td>Australia</td>\n",
              "      <td>Pakistan</td>\n",
              "      <td>Australia</td>\n",
              "      <td>140 runs</td>\n",
              "      <td>Sydney</td>\n",
              "    </tr>\n",
              "    <tr>\n",
              "      <th>9</th>\n",
              "      <td>26-Jan-10</td>\n",
              "      <td>Australia</td>\n",
              "      <td>Pakistan</td>\n",
              "      <td>Australia</td>\n",
              "      <td>40 runs</td>\n",
              "      <td>Adelaide</td>\n",
              "    </tr>\n",
              "  </tbody>\n",
              "</table>\n",
              "</div>"
            ],
            "text/plain": [
              "        date      Team_1     Team_2     Winner     Margin    Ground\n",
              "0   4-Jan-10  Bangladesh  Sri Lanka  Sri Lanka  7 wickets     Dhaka\n",
              "1   5-Jan-10       India  Sri Lanka  Sri Lanka  5 wickets     Dhaka\n",
              "2   7-Jan-10  Bangladesh      India      India  6 wickets     Dhaka\n",
              "3   8-Jan-10  Bangladesh  Sri Lanka  Sri Lanka  9 wickets     Dhaka\n",
              "4  10-Jan-10       India  Sri Lanka      India  8 wickets     Dhaka\n",
              "5  11-Jan-10  Bangladesh      India      India  6 wickets     Dhaka\n",
              "6  13-Jan-10       India  Sri Lanka  Sri Lanka  4 wickets     Dhaka\n",
              "7  22-Jan-10   Australia   Pakistan  Australia  5 wickets  Brisbane\n",
              "8  24-Jan-10   Australia   Pakistan  Australia   140 runs    Sydney\n",
              "9  26-Jan-10   Australia   Pakistan  Australia    40 runs  Adelaide"
            ]
          },
          "metadata": {},
          "execution_count": 12
        }
      ],
      "source": [
        "\n",
        "df_teams.head(10)\n"
      ]
    },
    {
      "cell_type": "markdown",
      "metadata": {
        "id": "CvAaA7wGz7FV"
      },
      "source": [
        "Menghapus kolom yang kurang penting seperti date, margin of victory, dan ground."
      ]
    },
    {
      "cell_type": "code",
      "execution_count": 13,
      "metadata": {
        "colab": {
          "base_uri": "https://localhost:8080/",
          "height": 363
        },
        "id": "FEQqaYuDBaqa",
        "outputId": "09b38575-435e-4574-d7b8-b532bd940a0c"
      },
      "outputs": [
        {
          "output_type": "execute_result",
          "data": {
            "text/html": [
              "<div>\n",
              "<style scoped>\n",
              "    .dataframe tbody tr th:only-of-type {\n",
              "        vertical-align: middle;\n",
              "    }\n",
              "\n",
              "    .dataframe tbody tr th {\n",
              "        vertical-align: top;\n",
              "    }\n",
              "\n",
              "    .dataframe thead th {\n",
              "        text-align: right;\n",
              "    }\n",
              "</style>\n",
              "<table border=\"1\" class=\"dataframe\">\n",
              "  <thead>\n",
              "    <tr style=\"text-align: right;\">\n",
              "      <th></th>\n",
              "      <th>Team_1</th>\n",
              "      <th>Team_2</th>\n",
              "      <th>Winner</th>\n",
              "    </tr>\n",
              "  </thead>\n",
              "  <tbody>\n",
              "    <tr>\n",
              "      <th>0</th>\n",
              "      <td>Bangladesh</td>\n",
              "      <td>Sri Lanka</td>\n",
              "      <td>Sri Lanka</td>\n",
              "    </tr>\n",
              "    <tr>\n",
              "      <th>1</th>\n",
              "      <td>India</td>\n",
              "      <td>Sri Lanka</td>\n",
              "      <td>Sri Lanka</td>\n",
              "    </tr>\n",
              "    <tr>\n",
              "      <th>2</th>\n",
              "      <td>Bangladesh</td>\n",
              "      <td>India</td>\n",
              "      <td>India</td>\n",
              "    </tr>\n",
              "    <tr>\n",
              "      <th>3</th>\n",
              "      <td>Bangladesh</td>\n",
              "      <td>Sri Lanka</td>\n",
              "      <td>Sri Lanka</td>\n",
              "    </tr>\n",
              "    <tr>\n",
              "      <th>4</th>\n",
              "      <td>India</td>\n",
              "      <td>Sri Lanka</td>\n",
              "      <td>India</td>\n",
              "    </tr>\n",
              "    <tr>\n",
              "      <th>5</th>\n",
              "      <td>Bangladesh</td>\n",
              "      <td>India</td>\n",
              "      <td>India</td>\n",
              "    </tr>\n",
              "    <tr>\n",
              "      <th>6</th>\n",
              "      <td>India</td>\n",
              "      <td>Sri Lanka</td>\n",
              "      <td>Sri Lanka</td>\n",
              "    </tr>\n",
              "    <tr>\n",
              "      <th>7</th>\n",
              "      <td>Australia</td>\n",
              "      <td>Pakistan</td>\n",
              "      <td>Australia</td>\n",
              "    </tr>\n",
              "    <tr>\n",
              "      <th>8</th>\n",
              "      <td>Australia</td>\n",
              "      <td>Pakistan</td>\n",
              "      <td>Australia</td>\n",
              "    </tr>\n",
              "    <tr>\n",
              "      <th>9</th>\n",
              "      <td>Australia</td>\n",
              "      <td>Pakistan</td>\n",
              "      <td>Australia</td>\n",
              "    </tr>\n",
              "  </tbody>\n",
              "</table>\n",
              "</div>"
            ],
            "text/plain": [
              "       Team_1     Team_2     Winner\n",
              "0  Bangladesh  Sri Lanka  Sri Lanka\n",
              "1       India  Sri Lanka  Sri Lanka\n",
              "2  Bangladesh      India      India\n",
              "3  Bangladesh  Sri Lanka  Sri Lanka\n",
              "4       India  Sri Lanka      India\n",
              "5  Bangladesh      India      India\n",
              "6       India  Sri Lanka  Sri Lanka\n",
              "7   Australia   Pakistan  Australia\n",
              "8   Australia   Pakistan  Australia\n",
              "9   Australia   Pakistan  Australia"
            ]
          },
          "metadata": {},
          "execution_count": 13
        }
      ],
      "source": [
        "\n",
        "df_teams_2010 = df_teams.drop(['date','Margin', 'Ground'], axis=1)\n",
        "df_teams_2010.head(10)\n"
      ]
    },
    {
      "cell_type": "markdown",
      "metadata": {
        "id": "64WfiB96Yqy6"
      },
      "source": [
        "**FEATURE ENGINEERING DAN SELECTION**  \n",
        "Membuat model data dengan ketentuan:  \n",
        "Jika Team_1 menang, diberi label 1  \n",
        "Jika Team_2 menang, diberi label 2"
      ]
    },
    {
      "cell_type": "code",
      "execution_count": 14,
      "metadata": {
        "colab": {
          "base_uri": "https://localhost:8080/",
          "height": 363
        },
        "id": "5vI4ET69Baqb",
        "outputId": "0e72398a-ac0d-427e-d279-52b45d07d774"
      },
      "outputs": [
        {
          "output_type": "execute_result",
          "data": {
            "text/html": [
              "<div>\n",
              "<style scoped>\n",
              "    .dataframe tbody tr th:only-of-type {\n",
              "        vertical-align: middle;\n",
              "    }\n",
              "\n",
              "    .dataframe tbody tr th {\n",
              "        vertical-align: top;\n",
              "    }\n",
              "\n",
              "    .dataframe thead th {\n",
              "        text-align: right;\n",
              "    }\n",
              "</style>\n",
              "<table border=\"1\" class=\"dataframe\">\n",
              "  <thead>\n",
              "    <tr style=\"text-align: right;\">\n",
              "      <th></th>\n",
              "      <th>Team_1</th>\n",
              "      <th>Team_2</th>\n",
              "      <th>Winner</th>\n",
              "    </tr>\n",
              "  </thead>\n",
              "  <tbody>\n",
              "    <tr>\n",
              "      <th>0</th>\n",
              "      <td>Bangladesh</td>\n",
              "      <td>Sri Lanka</td>\n",
              "      <td>Sri Lanka</td>\n",
              "    </tr>\n",
              "    <tr>\n",
              "      <th>1</th>\n",
              "      <td>India</td>\n",
              "      <td>Sri Lanka</td>\n",
              "      <td>Sri Lanka</td>\n",
              "    </tr>\n",
              "    <tr>\n",
              "      <th>2</th>\n",
              "      <td>Bangladesh</td>\n",
              "      <td>India</td>\n",
              "      <td>India</td>\n",
              "    </tr>\n",
              "    <tr>\n",
              "      <th>3</th>\n",
              "      <td>Bangladesh</td>\n",
              "      <td>Sri Lanka</td>\n",
              "      <td>Sri Lanka</td>\n",
              "    </tr>\n",
              "    <tr>\n",
              "      <th>4</th>\n",
              "      <td>India</td>\n",
              "      <td>Sri Lanka</td>\n",
              "      <td>India</td>\n",
              "    </tr>\n",
              "    <tr>\n",
              "      <th>5</th>\n",
              "      <td>Bangladesh</td>\n",
              "      <td>India</td>\n",
              "      <td>India</td>\n",
              "    </tr>\n",
              "    <tr>\n",
              "      <th>6</th>\n",
              "      <td>India</td>\n",
              "      <td>Sri Lanka</td>\n",
              "      <td>Sri Lanka</td>\n",
              "    </tr>\n",
              "    <tr>\n",
              "      <th>7</th>\n",
              "      <td>Australia</td>\n",
              "      <td>Pakistan</td>\n",
              "      <td>Australia</td>\n",
              "    </tr>\n",
              "    <tr>\n",
              "      <th>8</th>\n",
              "      <td>Australia</td>\n",
              "      <td>Pakistan</td>\n",
              "      <td>Australia</td>\n",
              "    </tr>\n",
              "    <tr>\n",
              "      <th>9</th>\n",
              "      <td>Australia</td>\n",
              "      <td>Pakistan</td>\n",
              "      <td>Australia</td>\n",
              "    </tr>\n",
              "  </tbody>\n",
              "</table>\n",
              "</div>"
            ],
            "text/plain": [
              "       Team_1     Team_2     Winner\n",
              "0  Bangladesh  Sri Lanka  Sri Lanka\n",
              "1       India  Sri Lanka  Sri Lanka\n",
              "2  Bangladesh      India      India\n",
              "3  Bangladesh  Sri Lanka  Sri Lanka\n",
              "4       India  Sri Lanka      India\n",
              "5  Bangladesh      India      India\n",
              "6       India  Sri Lanka  Sri Lanka\n",
              "7   Australia   Pakistan  Australia\n",
              "8   Australia   Pakistan  Australia\n",
              "9   Australia   Pakistan  Australia"
            ]
          },
          "metadata": {},
          "execution_count": 14
        }
      ],
      "source": [
        "\n",
        "df_teams_2010 = df_teams_2010.reset_index(drop=True)\n",
        "df_teams_2010.loc[df_teams_2010.Winner == df_teams_2010.Team_1,'winning_team']=1\n",
        "df_teams_2010.loc[df_teams_2010.Winner == df_teams_2010.Team_2, 'winning_team']=2\n",
        "df_teams_2010 = df_teams_2010.drop(['winning_team'], axis=1)\n",
        "\n",
        "df_teams_2010.head(10)\n"
      ]
    },
    {
      "cell_type": "markdown",
      "metadata": {
        "id": "bdvGZwxYZUzn"
      },
      "source": [
        "Mengubah Team_1 dan Team_2 dari categorical variable dengan function `pd.get_dummies`. Variable ini akan memiliki value 0 dan 1.\n",
        "\n",
        "Setelah itu memisahkan X dan Y set, kemudian memisahkan train set dan test set dengan test set sebanyak 30%."
      ]
    },
    {
      "cell_type": "code",
      "execution_count": 15,
      "metadata": {
        "id": "8YuE7oM3Baqb"
      },
      "outputs": [],
      "source": [
        "\n",
        "final = pd.get_dummies(df_teams_2010, prefix=['Team_1', 'Team_2'], columns=['Team_1', 'Team_2'])\n",
        "\n",
        "# Memisahkan X dan y sets\n",
        "X = final.drop(['Winner'], axis=1)\n",
        "y = final[\"Winner\"]\n",
        "\n",
        "X_train, X_test, y_train, y_test = train_test_split(X, y, test_size=0.30, random_state=42)\n"
      ]
    },
    {
      "cell_type": "code",
      "execution_count": 16,
      "metadata": {
        "colab": {
          "base_uri": "https://localhost:8080/",
          "height": 470
        },
        "id": "ZLzcE2DoBaqb",
        "outputId": "34518997-3665-4caa-9bc1-ad66f8375650"
      },
      "outputs": [
        {
          "output_type": "execute_result",
          "data": {
            "text/html": [
              "<div>\n",
              "<style scoped>\n",
              "    .dataframe tbody tr th:only-of-type {\n",
              "        vertical-align: middle;\n",
              "    }\n",
              "\n",
              "    .dataframe tbody tr th {\n",
              "        vertical-align: top;\n",
              "    }\n",
              "\n",
              "    .dataframe thead th {\n",
              "        text-align: right;\n",
              "    }\n",
              "</style>\n",
              "<table border=\"1\" class=\"dataframe\">\n",
              "  <thead>\n",
              "    <tr style=\"text-align: right;\">\n",
              "      <th></th>\n",
              "      <th>Winner</th>\n",
              "      <th>Team_1_Afghanistan</th>\n",
              "      <th>Team_1_Australia</th>\n",
              "      <th>Team_1_Bangladesh</th>\n",
              "      <th>Team_1_Canada</th>\n",
              "      <th>Team_1_England</th>\n",
              "      <th>Team_1_India</th>\n",
              "      <th>Team_1_Ireland</th>\n",
              "      <th>Team_1_Kenya</th>\n",
              "      <th>Team_1_Netherlands</th>\n",
              "      <th>Team_1_New Zealand</th>\n",
              "      <th>Team_1_Pakistan</th>\n",
              "      <th>Team_1_Scotland</th>\n",
              "      <th>Team_1_South Africa</th>\n",
              "      <th>Team_1_Sri Lanka</th>\n",
              "      <th>Team_1_U.A.E.</th>\n",
              "      <th>Team_1_West Indies</th>\n",
              "      <th>Team_1_Zimbabwe</th>\n",
              "      <th>Team_2_Afghanistan</th>\n",
              "      <th>Team_2_Australia</th>\n",
              "      <th>Team_2_Bangladesh</th>\n",
              "      <th>Team_2_Canada</th>\n",
              "      <th>Team_2_England</th>\n",
              "      <th>Team_2_Hong Kong</th>\n",
              "      <th>Team_2_India</th>\n",
              "      <th>Team_2_Ireland</th>\n",
              "      <th>Team_2_Kenya</th>\n",
              "      <th>Team_2_Netherlands</th>\n",
              "      <th>Team_2_New Zealand</th>\n",
              "      <th>Team_2_Pakistan</th>\n",
              "      <th>Team_2_Scotland</th>\n",
              "      <th>Team_2_South Africa</th>\n",
              "      <th>Team_2_Sri Lanka</th>\n",
              "      <th>Team_2_U.A.E.</th>\n",
              "      <th>Team_2_West Indies</th>\n",
              "      <th>Team_2_Zimbabwe</th>\n",
              "    </tr>\n",
              "  </thead>\n",
              "  <tbody>\n",
              "    <tr>\n",
              "      <th>0</th>\n",
              "      <td>Sri Lanka</td>\n",
              "      <td>0</td>\n",
              "      <td>0</td>\n",
              "      <td>1</td>\n",
              "      <td>0</td>\n",
              "      <td>0</td>\n",
              "      <td>0</td>\n",
              "      <td>0</td>\n",
              "      <td>0</td>\n",
              "      <td>0</td>\n",
              "      <td>0</td>\n",
              "      <td>0</td>\n",
              "      <td>0</td>\n",
              "      <td>0</td>\n",
              "      <td>0</td>\n",
              "      <td>0</td>\n",
              "      <td>0</td>\n",
              "      <td>0</td>\n",
              "      <td>0</td>\n",
              "      <td>0</td>\n",
              "      <td>0</td>\n",
              "      <td>0</td>\n",
              "      <td>0</td>\n",
              "      <td>0</td>\n",
              "      <td>0</td>\n",
              "      <td>0</td>\n",
              "      <td>0</td>\n",
              "      <td>0</td>\n",
              "      <td>0</td>\n",
              "      <td>0</td>\n",
              "      <td>0</td>\n",
              "      <td>0</td>\n",
              "      <td>1</td>\n",
              "      <td>0</td>\n",
              "      <td>0</td>\n",
              "      <td>0</td>\n",
              "    </tr>\n",
              "    <tr>\n",
              "      <th>1</th>\n",
              "      <td>Sri Lanka</td>\n",
              "      <td>0</td>\n",
              "      <td>0</td>\n",
              "      <td>0</td>\n",
              "      <td>0</td>\n",
              "      <td>0</td>\n",
              "      <td>1</td>\n",
              "      <td>0</td>\n",
              "      <td>0</td>\n",
              "      <td>0</td>\n",
              "      <td>0</td>\n",
              "      <td>0</td>\n",
              "      <td>0</td>\n",
              "      <td>0</td>\n",
              "      <td>0</td>\n",
              "      <td>0</td>\n",
              "      <td>0</td>\n",
              "      <td>0</td>\n",
              "      <td>0</td>\n",
              "      <td>0</td>\n",
              "      <td>0</td>\n",
              "      <td>0</td>\n",
              "      <td>0</td>\n",
              "      <td>0</td>\n",
              "      <td>0</td>\n",
              "      <td>0</td>\n",
              "      <td>0</td>\n",
              "      <td>0</td>\n",
              "      <td>0</td>\n",
              "      <td>0</td>\n",
              "      <td>0</td>\n",
              "      <td>0</td>\n",
              "      <td>1</td>\n",
              "      <td>0</td>\n",
              "      <td>0</td>\n",
              "      <td>0</td>\n",
              "    </tr>\n",
              "    <tr>\n",
              "      <th>2</th>\n",
              "      <td>India</td>\n",
              "      <td>0</td>\n",
              "      <td>0</td>\n",
              "      <td>1</td>\n",
              "      <td>0</td>\n",
              "      <td>0</td>\n",
              "      <td>0</td>\n",
              "      <td>0</td>\n",
              "      <td>0</td>\n",
              "      <td>0</td>\n",
              "      <td>0</td>\n",
              "      <td>0</td>\n",
              "      <td>0</td>\n",
              "      <td>0</td>\n",
              "      <td>0</td>\n",
              "      <td>0</td>\n",
              "      <td>0</td>\n",
              "      <td>0</td>\n",
              "      <td>0</td>\n",
              "      <td>0</td>\n",
              "      <td>0</td>\n",
              "      <td>0</td>\n",
              "      <td>0</td>\n",
              "      <td>0</td>\n",
              "      <td>1</td>\n",
              "      <td>0</td>\n",
              "      <td>0</td>\n",
              "      <td>0</td>\n",
              "      <td>0</td>\n",
              "      <td>0</td>\n",
              "      <td>0</td>\n",
              "      <td>0</td>\n",
              "      <td>0</td>\n",
              "      <td>0</td>\n",
              "      <td>0</td>\n",
              "      <td>0</td>\n",
              "    </tr>\n",
              "    <tr>\n",
              "      <th>3</th>\n",
              "      <td>Sri Lanka</td>\n",
              "      <td>0</td>\n",
              "      <td>0</td>\n",
              "      <td>1</td>\n",
              "      <td>0</td>\n",
              "      <td>0</td>\n",
              "      <td>0</td>\n",
              "      <td>0</td>\n",
              "      <td>0</td>\n",
              "      <td>0</td>\n",
              "      <td>0</td>\n",
              "      <td>0</td>\n",
              "      <td>0</td>\n",
              "      <td>0</td>\n",
              "      <td>0</td>\n",
              "      <td>0</td>\n",
              "      <td>0</td>\n",
              "      <td>0</td>\n",
              "      <td>0</td>\n",
              "      <td>0</td>\n",
              "      <td>0</td>\n",
              "      <td>0</td>\n",
              "      <td>0</td>\n",
              "      <td>0</td>\n",
              "      <td>0</td>\n",
              "      <td>0</td>\n",
              "      <td>0</td>\n",
              "      <td>0</td>\n",
              "      <td>0</td>\n",
              "      <td>0</td>\n",
              "      <td>0</td>\n",
              "      <td>0</td>\n",
              "      <td>1</td>\n",
              "      <td>0</td>\n",
              "      <td>0</td>\n",
              "      <td>0</td>\n",
              "    </tr>\n",
              "    <tr>\n",
              "      <th>4</th>\n",
              "      <td>India</td>\n",
              "      <td>0</td>\n",
              "      <td>0</td>\n",
              "      <td>0</td>\n",
              "      <td>0</td>\n",
              "      <td>0</td>\n",
              "      <td>1</td>\n",
              "      <td>0</td>\n",
              "      <td>0</td>\n",
              "      <td>0</td>\n",
              "      <td>0</td>\n",
              "      <td>0</td>\n",
              "      <td>0</td>\n",
              "      <td>0</td>\n",
              "      <td>0</td>\n",
              "      <td>0</td>\n",
              "      <td>0</td>\n",
              "      <td>0</td>\n",
              "      <td>0</td>\n",
              "      <td>0</td>\n",
              "      <td>0</td>\n",
              "      <td>0</td>\n",
              "      <td>0</td>\n",
              "      <td>0</td>\n",
              "      <td>0</td>\n",
              "      <td>0</td>\n",
              "      <td>0</td>\n",
              "      <td>0</td>\n",
              "      <td>0</td>\n",
              "      <td>0</td>\n",
              "      <td>0</td>\n",
              "      <td>0</td>\n",
              "      <td>1</td>\n",
              "      <td>0</td>\n",
              "      <td>0</td>\n",
              "      <td>0</td>\n",
              "    </tr>\n",
              "    <tr>\n",
              "      <th>5</th>\n",
              "      <td>India</td>\n",
              "      <td>0</td>\n",
              "      <td>0</td>\n",
              "      <td>1</td>\n",
              "      <td>0</td>\n",
              "      <td>0</td>\n",
              "      <td>0</td>\n",
              "      <td>0</td>\n",
              "      <td>0</td>\n",
              "      <td>0</td>\n",
              "      <td>0</td>\n",
              "      <td>0</td>\n",
              "      <td>0</td>\n",
              "      <td>0</td>\n",
              "      <td>0</td>\n",
              "      <td>0</td>\n",
              "      <td>0</td>\n",
              "      <td>0</td>\n",
              "      <td>0</td>\n",
              "      <td>0</td>\n",
              "      <td>0</td>\n",
              "      <td>0</td>\n",
              "      <td>0</td>\n",
              "      <td>0</td>\n",
              "      <td>1</td>\n",
              "      <td>0</td>\n",
              "      <td>0</td>\n",
              "      <td>0</td>\n",
              "      <td>0</td>\n",
              "      <td>0</td>\n",
              "      <td>0</td>\n",
              "      <td>0</td>\n",
              "      <td>0</td>\n",
              "      <td>0</td>\n",
              "      <td>0</td>\n",
              "      <td>0</td>\n",
              "    </tr>\n",
              "    <tr>\n",
              "      <th>6</th>\n",
              "      <td>Sri Lanka</td>\n",
              "      <td>0</td>\n",
              "      <td>0</td>\n",
              "      <td>0</td>\n",
              "      <td>0</td>\n",
              "      <td>0</td>\n",
              "      <td>1</td>\n",
              "      <td>0</td>\n",
              "      <td>0</td>\n",
              "      <td>0</td>\n",
              "      <td>0</td>\n",
              "      <td>0</td>\n",
              "      <td>0</td>\n",
              "      <td>0</td>\n",
              "      <td>0</td>\n",
              "      <td>0</td>\n",
              "      <td>0</td>\n",
              "      <td>0</td>\n",
              "      <td>0</td>\n",
              "      <td>0</td>\n",
              "      <td>0</td>\n",
              "      <td>0</td>\n",
              "      <td>0</td>\n",
              "      <td>0</td>\n",
              "      <td>0</td>\n",
              "      <td>0</td>\n",
              "      <td>0</td>\n",
              "      <td>0</td>\n",
              "      <td>0</td>\n",
              "      <td>0</td>\n",
              "      <td>0</td>\n",
              "      <td>0</td>\n",
              "      <td>1</td>\n",
              "      <td>0</td>\n",
              "      <td>0</td>\n",
              "      <td>0</td>\n",
              "    </tr>\n",
              "    <tr>\n",
              "      <th>7</th>\n",
              "      <td>Australia</td>\n",
              "      <td>0</td>\n",
              "      <td>1</td>\n",
              "      <td>0</td>\n",
              "      <td>0</td>\n",
              "      <td>0</td>\n",
              "      <td>0</td>\n",
              "      <td>0</td>\n",
              "      <td>0</td>\n",
              "      <td>0</td>\n",
              "      <td>0</td>\n",
              "      <td>0</td>\n",
              "      <td>0</td>\n",
              "      <td>0</td>\n",
              "      <td>0</td>\n",
              "      <td>0</td>\n",
              "      <td>0</td>\n",
              "      <td>0</td>\n",
              "      <td>0</td>\n",
              "      <td>0</td>\n",
              "      <td>0</td>\n",
              "      <td>0</td>\n",
              "      <td>0</td>\n",
              "      <td>0</td>\n",
              "      <td>0</td>\n",
              "      <td>0</td>\n",
              "      <td>0</td>\n",
              "      <td>0</td>\n",
              "      <td>0</td>\n",
              "      <td>1</td>\n",
              "      <td>0</td>\n",
              "      <td>0</td>\n",
              "      <td>0</td>\n",
              "      <td>0</td>\n",
              "      <td>0</td>\n",
              "      <td>0</td>\n",
              "    </tr>\n",
              "    <tr>\n",
              "      <th>8</th>\n",
              "      <td>Australia</td>\n",
              "      <td>0</td>\n",
              "      <td>1</td>\n",
              "      <td>0</td>\n",
              "      <td>0</td>\n",
              "      <td>0</td>\n",
              "      <td>0</td>\n",
              "      <td>0</td>\n",
              "      <td>0</td>\n",
              "      <td>0</td>\n",
              "      <td>0</td>\n",
              "      <td>0</td>\n",
              "      <td>0</td>\n",
              "      <td>0</td>\n",
              "      <td>0</td>\n",
              "      <td>0</td>\n",
              "      <td>0</td>\n",
              "      <td>0</td>\n",
              "      <td>0</td>\n",
              "      <td>0</td>\n",
              "      <td>0</td>\n",
              "      <td>0</td>\n",
              "      <td>0</td>\n",
              "      <td>0</td>\n",
              "      <td>0</td>\n",
              "      <td>0</td>\n",
              "      <td>0</td>\n",
              "      <td>0</td>\n",
              "      <td>0</td>\n",
              "      <td>1</td>\n",
              "      <td>0</td>\n",
              "      <td>0</td>\n",
              "      <td>0</td>\n",
              "      <td>0</td>\n",
              "      <td>0</td>\n",
              "      <td>0</td>\n",
              "    </tr>\n",
              "    <tr>\n",
              "      <th>9</th>\n",
              "      <td>Australia</td>\n",
              "      <td>0</td>\n",
              "      <td>1</td>\n",
              "      <td>0</td>\n",
              "      <td>0</td>\n",
              "      <td>0</td>\n",
              "      <td>0</td>\n",
              "      <td>0</td>\n",
              "      <td>0</td>\n",
              "      <td>0</td>\n",
              "      <td>0</td>\n",
              "      <td>0</td>\n",
              "      <td>0</td>\n",
              "      <td>0</td>\n",
              "      <td>0</td>\n",
              "      <td>0</td>\n",
              "      <td>0</td>\n",
              "      <td>0</td>\n",
              "      <td>0</td>\n",
              "      <td>0</td>\n",
              "      <td>0</td>\n",
              "      <td>0</td>\n",
              "      <td>0</td>\n",
              "      <td>0</td>\n",
              "      <td>0</td>\n",
              "      <td>0</td>\n",
              "      <td>0</td>\n",
              "      <td>0</td>\n",
              "      <td>0</td>\n",
              "      <td>1</td>\n",
              "      <td>0</td>\n",
              "      <td>0</td>\n",
              "      <td>0</td>\n",
              "      <td>0</td>\n",
              "      <td>0</td>\n",
              "      <td>0</td>\n",
              "    </tr>\n",
              "  </tbody>\n",
              "</table>\n",
              "</div>"
            ],
            "text/plain": [
              "      Winner  Team_1_Afghanistan  ...  Team_2_West Indies  Team_2_Zimbabwe\n",
              "0  Sri Lanka                   0  ...                   0                0\n",
              "1  Sri Lanka                   0  ...                   0                0\n",
              "2      India                   0  ...                   0                0\n",
              "3  Sri Lanka                   0  ...                   0                0\n",
              "4      India                   0  ...                   0                0\n",
              "5      India                   0  ...                   0                0\n",
              "6  Sri Lanka                   0  ...                   0                0\n",
              "7  Australia                   0  ...                   0                0\n",
              "8  Australia                   0  ...                   0                0\n",
              "9  Australia                   0  ...                   0                0\n",
              "\n",
              "[10 rows x 36 columns]"
            ]
          },
          "metadata": {},
          "execution_count": 16
        }
      ],
      "source": [
        "\n",
        "final.head(10)\n"
      ]
    },
    {
      "cell_type": "markdown",
      "metadata": {
        "id": "FQxQYaTJbrE4"
      },
      "source": [
        "**MEMBANDINGKAN PERFORMANCE BEBERAPA ALGORITMA CLASSIFICATION TERHADAP MODEL**  \n",
        "Algoritma Classification yang akan dibandingkan adalah Logistic Regression,  Support Vector Machines, Random Forests, K Nearest Neighbours, dan XGBoost.\n",
        "\n",
        "**Logistic Regression**"
      ]
    },
    {
      "cell_type": "code",
      "execution_count": 17,
      "metadata": {
        "colab": {
          "base_uri": "https://localhost:8080/"
        },
        "id": "XaG22feDEztO",
        "outputId": "f6464d39-50d4-4de3-8d5e-d36104f851a2"
      },
      "outputs": [
        {
          "output_type": "stream",
          "name": "stdout",
          "text": [
            "Training set accuracy:  0.691\n",
            "Test set accuracy:  0.668\n"
          ]
        }
      ],
      "source": [
        "\n",
        "logClassifier = LogisticRegression(random_state = 0)\n",
        "logClassifier.fit(X_train, y_train)\n",
        "\n",
        "score = logClassifier.score(X_train, y_train)\n",
        "score2 = logClassifier.score(X_test, y_test)\n",
        "\n",
        "\n",
        "print(\"Training set accuracy: \", '%.3f'%(score))\n",
        "print(\"Test set accuracy: \", '%.3f'%(score2))\n"
      ]
    },
    {
      "cell_type": "markdown",
      "metadata": {
        "id": "6fq0wLTxeVuf"
      },
      "source": [
        "Confusion Matrix dari Logistic Regression"
      ]
    },
    {
      "cell_type": "code",
      "execution_count": 18,
      "metadata": {
        "colab": {
          "base_uri": "https://localhost:8080/",
          "height": 282
        },
        "id": "ZJPxc760FvXh",
        "outputId": "0dc8a52c-7375-4db2-cf4b-3d9b23c050f2"
      },
      "outputs": [
        {
          "output_type": "execute_result",
          "data": {
            "text/plain": [
              "<matplotlib.axes._subplots.AxesSubplot at 0x7ff19b62d690>"
            ]
          },
          "metadata": {},
          "execution_count": 18
        },
        {
          "output_type": "display_data",
          "data": {
            "image/png": "[encoded data removed]",
            "text/plain": [
              "<Figure size 432x288 with 2 Axes>"
            ]
          },
          "metadata": {
            "needs_background": "light"
          }
        }
      ],
      "source": [
        "\n",
        "Y_pred = logClassifier.predict(X_test)\n",
        "\n",
        "cm = confusion_matrix(y_test, Y_pred)\n",
        "sns.heatmap(cm, annot=True,fmt='d')\n"
      ]
    },
    {
      "cell_type": "markdown",
      "metadata": {
        "id": "zygGqFiSelUu"
      },
      "source": [
        "Hasil performance Logistic Regression"
      ]
    },
    {
      "cell_type": "code",
      "execution_count": 19,
      "metadata": {
        "colab": {
          "base_uri": "https://localhost:8080/"
        },
        "id": "K2lSeTkQGZVK",
        "outputId": "e8fc4dcb-e452-47c2-9750-b85b5dc6c8a1"
      },
      "outputs": [
        {
          "output_type": "stream",
          "name": "stdout",
          "text": [
            "              precision    recall  f1-score   support\n",
            "\n",
            " Afghanistan       0.57      0.73      0.64        11\n",
            "   Australia       0.67      0.81      0.73        63\n",
            "  Bangladesh       0.85      0.46      0.59        24\n",
            "     England       0.62      0.91      0.74        57\n",
            "       India       0.71      0.91      0.79        64\n",
            "     Ireland       0.00      0.00      0.00         3\n",
            " Netherlands       0.00      0.00      0.00         1\n",
            " New Zealand       0.63      0.74      0.68        35\n",
            "    Pakistan       0.78      0.63      0.70        46\n",
            "    Scotland       0.00      0.00      0.00         1\n",
            "South Africa       0.70      0.68      0.69        31\n",
            "   Sri Lanka       0.60      0.57      0.58        46\n",
            " West Indies       0.58      0.44      0.50        16\n",
            "    Zimbabwe       0.50      0.14      0.22         7\n",
            "   no result       0.00      0.00      0.00        21\n",
            "        tied       0.00      0.00      0.00         8\n",
            "\n",
            "    accuracy                           0.67       434\n",
            "   macro avg       0.45      0.44      0.43       434\n",
            "weighted avg       0.62      0.67      0.63       434\n",
            "\n"
          ]
        },
        {
          "output_type": "stream",
          "name": "stderr",
          "text": [
            "/usr/local/lib/python3.7/dist-packages/sklearn/metrics/_classification.py:1308: UndefinedMetricWarning: Precision and F-score are ill-defined and being set to 0.0 in labels with no predicted samples. Use `zero_division` parameter to control this behavior.\n",
            "  _warn_prf(average, modifier, msg_start, len(result))\n",
            "/usr/local/lib/python3.7/dist-packages/sklearn/metrics/_classification.py:1308: UndefinedMetricWarning: Precision and F-score are ill-defined and being set to 0.0 in labels with no predicted samples. Use `zero_division` parameter to control this behavior.\n",
            "  _warn_prf(average, modifier, msg_start, len(result))\n",
            "/usr/local/lib/python3.7/dist-packages/sklearn/metrics/_classification.py:1308: UndefinedMetricWarning: Precision and F-score are ill-defined and being set to 0.0 in labels with no predicted samples. Use `zero_division` parameter to control this behavior.\n",
            "  _warn_prf(average, modifier, msg_start, len(result))\n"
          ]
        }
      ],
      "source": [
        "\n",
        "print(classification_report(y_test, Y_pred))\n"
      ]
    },
    {
      "cell_type": "markdown",
      "metadata": {
        "id": "ud_GfivNf1hi"
      },
      "source": [
        "**Support Vector Machines (SVM)**"
      ]
    },
    {
      "cell_type": "code",
      "execution_count": 20,
      "metadata": {
        "colab": {
          "base_uri": "https://localhost:8080/"
        },
        "id": "N6upAvdHHrza",
        "outputId": "7e4d948c-f151-4f3b-f532-4b165bfe1572"
      },
      "outputs": [
        {
          "output_type": "stream",
          "name": "stdout",
          "text": [
            "Training set accuracy:  0.696\n",
            "Test set accuracy:  0.666\n"
          ]
        }
      ],
      "source": [
        "\n",
        "SVMclassifier = SVC(kernel = 'rbf',random_state = 0)\n",
        "SVMclassifier.fit(X_train, y_train)\n",
        "\n",
        "score = SVMclassifier.score(X_train, y_train)\n",
        "score2 = SVMclassifier.score(X_test, y_test)\n",
        "\n",
        "\n",
        "print(\"Training set accuracy: \", '%.3f'%(score))\n",
        "print(\"Test set accuracy: \", '%.3f'%(score2))\n"
      ]
    },
    {
      "cell_type": "markdown",
      "metadata": {
        "id": "BvMCkLXbjGYz"
      },
      "source": [
        "Confusion Matrix dari SVM"
      ]
    },
    {
      "cell_type": "code",
      "execution_count": 21,
      "metadata": {
        "colab": {
          "base_uri": "https://localhost:8080/",
          "height": 282
        },
        "id": "_WtVOobmIMuJ",
        "outputId": "ed321551-1db8-4d56-edc6-87520105c483"
      },
      "outputs": [
        {
          "output_type": "execute_result",
          "data": {
            "text/plain": [
              "<matplotlib.axes._subplots.AxesSubplot at 0x7ff18087c990>"
            ]
          },
          "metadata": {},
          "execution_count": 21
        },
        {
          "output_type": "display_data",
          "data": {
            "image/png": "[encoded data removed]",
            "text/plain": [
              "<Figure size 432x288 with 2 Axes>"
            ]
          },
          "metadata": {
            "needs_background": "light"
          }
        }
      ],
      "source": [
        "\n",
        "Y_pred = SVMclassifier.predict(X_test)\n",
        "\n",
        "cm = confusion_matrix(y_test, Y_pred)\n",
        "sns.heatmap(cm, annot=True, fmt='d')\n"
      ]
    },
    {
      "cell_type": "markdown",
      "metadata": {
        "id": "niO7lMU8jRKV"
      },
      "source": [
        "Hasil performance SVM"
      ]
    },
    {
      "cell_type": "code",
      "execution_count": 22,
      "metadata": {
        "colab": {
          "base_uri": "https://localhost:8080/"
        },
        "id": "D3MPNgLZIdIw",
        "outputId": "71560425-cc3d-4b60-a882-257fe1dfc306"
      },
      "outputs": [
        {
          "output_type": "stream",
          "name": "stdout",
          "text": [
            "              precision    recall  f1-score   support\n",
            "\n",
            " Afghanistan       0.54      0.64      0.58        11\n",
            "   Australia       0.73      0.76      0.74        63\n",
            "  Bangladesh       0.83      0.42      0.56        24\n",
            "     England       0.62      0.93      0.74        57\n",
            "       India       0.71      0.91      0.79        64\n",
            "     Ireland       0.00      0.00      0.00         3\n",
            "       Kenya       0.00      0.00      0.00         0\n",
            " Netherlands       0.00      0.00      0.00         1\n",
            " New Zealand       0.64      0.71      0.68        35\n",
            "    Pakistan       0.78      0.63      0.70        46\n",
            "    Scotland       0.00      0.00      0.00         1\n",
            "South Africa       0.66      0.68      0.67        31\n",
            "   Sri Lanka       0.59      0.65      0.62        46\n",
            " West Indies       0.58      0.44      0.50        16\n",
            "    Zimbabwe       0.50      0.14      0.22         7\n",
            "   no result       0.00      0.00      0.00        21\n",
            "        tied       0.00      0.00      0.00         8\n",
            "\n",
            "    accuracy                           0.67       434\n",
            "   macro avg       0.42      0.41      0.40       434\n",
            "weighted avg       0.62      0.67      0.63       434\n",
            "\n"
          ]
        },
        {
          "output_type": "stream",
          "name": "stderr",
          "text": [
            "/usr/local/lib/python3.7/dist-packages/sklearn/metrics/_classification.py:1308: UndefinedMetricWarning: Precision and F-score are ill-defined and being set to 0.0 in labels with no predicted samples. Use `zero_division` parameter to control this behavior.\n",
            "  _warn_prf(average, modifier, msg_start, len(result))\n",
            "/usr/local/lib/python3.7/dist-packages/sklearn/metrics/_classification.py:1308: UndefinedMetricWarning: Recall and F-score are ill-defined and being set to 0.0 in labels with no true samples. Use `zero_division` parameter to control this behavior.\n",
            "  _warn_prf(average, modifier, msg_start, len(result))\n",
            "/usr/local/lib/python3.7/dist-packages/sklearn/metrics/_classification.py:1308: UndefinedMetricWarning: Precision and F-score are ill-defined and being set to 0.0 in labels with no predicted samples. Use `zero_division` parameter to control this behavior.\n",
            "  _warn_prf(average, modifier, msg_start, len(result))\n",
            "/usr/local/lib/python3.7/dist-packages/sklearn/metrics/_classification.py:1308: UndefinedMetricWarning: Recall and F-score are ill-defined and being set to 0.0 in labels with no true samples. Use `zero_division` parameter to control this behavior.\n",
            "  _warn_prf(average, modifier, msg_start, len(result))\n",
            "/usr/local/lib/python3.7/dist-packages/sklearn/metrics/_classification.py:1308: UndefinedMetricWarning: Precision and F-score are ill-defined and being set to 0.0 in labels with no predicted samples. Use `zero_division` parameter to control this behavior.\n",
            "  _warn_prf(average, modifier, msg_start, len(result))\n",
            "/usr/local/lib/python3.7/dist-packages/sklearn/metrics/_classification.py:1308: UndefinedMetricWarning: Recall and F-score are ill-defined and being set to 0.0 in labels with no true samples. Use `zero_division` parameter to control this behavior.\n",
            "  _warn_prf(average, modifier, msg_start, len(result))\n"
          ]
        }
      ],
      "source": [
        "\n",
        "print(classification_report(y_test, Y_pred))\n"
      ]
    },
    {
      "cell_type": "markdown",
      "metadata": {
        "id": "2wc2EHFGjZZ0"
      },
      "source": [
        "**Random Forest**"
      ]
    },
    {
      "cell_type": "code",
      "execution_count": 23,
      "metadata": {
        "colab": {
          "base_uri": "https://localhost:8080/"
        },
        "id": "7EKc9TW6Baqc",
        "outputId": "280600e3-27d5-4189-f3c0-be82287c2e5c"
      },
      "outputs": [
        {
          "output_type": "stream",
          "name": "stdout",
          "text": [
            "Training set accuracy:  0.700\n",
            "Test set accuracy:  0.675\n"
          ]
        }
      ],
      "source": [
        "\n",
        "rf = RandomForestClassifier(n_estimators=100, max_depth=20,\n",
        "                              random_state=0)\n",
        "rf.fit(X_train, y_train) \n",
        "\n",
        "\n",
        "score = rf.score(X_train, y_train)\n",
        "score2 = rf.score(X_test, y_test)\n",
        "\n",
        "\n",
        "print(\"Training set accuracy: \", '%.3f'%(score))\n",
        "print(\"Test set accuracy: \", '%.3f'%(score2))\n"
      ]
    },
    {
      "cell_type": "markdown",
      "metadata": {
        "id": "h-dXeqlcj4FD"
      },
      "source": [
        "Confusion Matrix dari Random Forest"
      ]
    },
    {
      "cell_type": "code",
      "execution_count": 24,
      "metadata": {
        "colab": {
          "base_uri": "https://localhost:8080/",
          "height": 282
        },
        "id": "jkmutZQyj6Z-",
        "outputId": "ee238abb-a9d7-4d9c-92f9-ac3530b1e03f"
      },
      "outputs": [
        {
          "output_type": "execute_result",
          "data": {
            "text/plain": [
              "<matplotlib.axes._subplots.AxesSubplot at 0x7ff1808232d0>"
            ]
          },
          "metadata": {},
          "execution_count": 24
        },
        {
          "output_type": "display_data",
          "data": {
            "image/png": "[encoded data removed]",
            "text/plain": [
              "<Figure size 432x288 with 2 Axes>"
            ]
          },
          "metadata": {
            "needs_background": "light"
          }
        }
      ],
      "source": [
        "\n",
        "Y_pred = rf.predict(X_test)\n",
        "\n",
        "cm = confusion_matrix(y_test, Y_pred)\n",
        "sns.heatmap(cm, annot=True, fmt='d')\n"
      ]
    },
    {
      "cell_type": "markdown",
      "metadata": {
        "id": "b3IfLOqrkJw9"
      },
      "source": [
        "Hasil performance Random Forest"
      ]
    },
    {
      "cell_type": "code",
      "execution_count": 25,
      "metadata": {
        "colab": {
          "base_uri": "https://localhost:8080/"
        },
        "id": "63SZKFXckQt0",
        "outputId": "a757a091-1c04-490a-9d03-6c95ec95e4c9"
      },
      "outputs": [
        {
          "output_type": "stream",
          "name": "stdout",
          "text": [
            "              precision    recall  f1-score   support\n",
            "\n",
            " Afghanistan       0.50      0.55      0.52        11\n",
            "   Australia       0.74      0.76      0.75        63\n",
            "  Bangladesh       0.83      0.42      0.56        24\n",
            "     England       0.62      0.91      0.74        57\n",
            "       India       0.73      0.91      0.81        64\n",
            "     Ireland       0.00      0.00      0.00         3\n",
            "       Kenya       0.00      0.00      0.00         0\n",
            " Netherlands       0.00      0.00      0.00         1\n",
            " New Zealand       0.63      0.74      0.68        35\n",
            "    Pakistan       0.78      0.63      0.70        46\n",
            "    Scotland       0.00      0.00      0.00         1\n",
            "South Africa       0.73      0.77      0.75        31\n",
            "   Sri Lanka       0.61      0.67      0.64        46\n",
            " West Indies       0.64      0.44      0.52        16\n",
            "    Zimbabwe       0.50      0.14      0.22         7\n",
            "   no result       0.33      0.05      0.08        21\n",
            "        tied       0.00      0.00      0.00         8\n",
            "\n",
            "    accuracy                           0.68       434\n",
            "   macro avg       0.45      0.41      0.41       434\n",
            "weighted avg       0.65      0.68      0.65       434\n",
            "\n"
          ]
        },
        {
          "output_type": "stream",
          "name": "stderr",
          "text": [
            "/usr/local/lib/python3.7/dist-packages/sklearn/metrics/_classification.py:1308: UndefinedMetricWarning: Precision and F-score are ill-defined and being set to 0.0 in labels with no predicted samples. Use `zero_division` parameter to control this behavior.\n",
            "  _warn_prf(average, modifier, msg_start, len(result))\n",
            "/usr/local/lib/python3.7/dist-packages/sklearn/metrics/_classification.py:1308: UndefinedMetricWarning: Recall and F-score are ill-defined and being set to 0.0 in labels with no true samples. Use `zero_division` parameter to control this behavior.\n",
            "  _warn_prf(average, modifier, msg_start, len(result))\n",
            "/usr/local/lib/python3.7/dist-packages/sklearn/metrics/_classification.py:1308: UndefinedMetricWarning: Precision and F-score are ill-defined and being set to 0.0 in labels with no predicted samples. Use `zero_division` parameter to control this behavior.\n",
            "  _warn_prf(average, modifier, msg_start, len(result))\n",
            "/usr/local/lib/python3.7/dist-packages/sklearn/metrics/_classification.py:1308: UndefinedMetricWarning: Recall and F-score are ill-defined and being set to 0.0 in labels with no true samples. Use `zero_division` parameter to control this behavior.\n",
            "  _warn_prf(average, modifier, msg_start, len(result))\n",
            "/usr/local/lib/python3.7/dist-packages/sklearn/metrics/_classification.py:1308: UndefinedMetricWarning: Precision and F-score are ill-defined and being set to 0.0 in labels with no predicted samples. Use `zero_division` parameter to control this behavior.\n",
            "  _warn_prf(average, modifier, msg_start, len(result))\n",
            "/usr/local/lib/python3.7/dist-packages/sklearn/metrics/_classification.py:1308: UndefinedMetricWarning: Recall and F-score are ill-defined and being set to 0.0 in labels with no true samples. Use `zero_division` parameter to control this behavior.\n",
            "  _warn_prf(average, modifier, msg_start, len(result))\n"
          ]
        }
      ],
      "source": [
        "\n",
        "print(classification_report(y_test, Y_pred))\n"
      ]
    },
    {
      "cell_type": "markdown",
      "metadata": {
        "id": "E9qWB6ROk9of"
      },
      "source": [
        "**K Nearest Neighbor (KNN)**"
      ]
    },
    {
      "cell_type": "code",
      "execution_count": 26,
      "metadata": {
        "colab": {
          "base_uri": "https://localhost:8080/"
        },
        "id": "ziu11hl1mCyo",
        "outputId": "52fa1dc2-f9e1-417d-bbfc-3240b77f2102"
      },
      "outputs": [
        {
          "output_type": "stream",
          "name": "stdout",
          "text": [
            "Training set accuracy:  0.662\n",
            "Test set accuracy:  0.601\n"
          ]
        }
      ],
      "source": [
        "\n",
        "KNNclassifier = KNeighborsClassifier(n_neighbors = 3)\n",
        "KNNclassifier.fit(X_train, y_train)\n",
        "\n",
        "score = KNNclassifier.score(X_train, y_train)\n",
        "score2 = KNNclassifier.score(X_test, y_test)\n",
        "\n",
        "\n",
        "print(\"Training set accuracy: \", '%.3f'%(score))\n",
        "print(\"Test set accuracy: \", '%.3f'%(score2))\n"
      ]
    },
    {
      "cell_type": "markdown",
      "metadata": {
        "id": "ls9hITMfnY-2"
      },
      "source": [
        "Confusion Matrix dari KNN"
      ]
    },
    {
      "cell_type": "code",
      "execution_count": 27,
      "metadata": {
        "id": "an_pFw1tnp7W",
        "colab": {
          "base_uri": "https://localhost:8080/",
          "height": 282
        },
        "outputId": "d1404064-ae11-4e14-f1d2-f70600e24417"
      },
      "outputs": [
        {
          "output_type": "execute_result",
          "data": {
            "text/plain": [
              "<matplotlib.axes._subplots.AxesSubplot at 0x7ff18029d110>"
            ]
          },
          "metadata": {},
          "execution_count": 27
        },
        {
          "output_type": "display_data",
          "data": {
            "image/png": "[encoded data removed]",
            "text/plain": [
              "<Figure size 432x288 with 2 Axes>"
            ]
          },
          "metadata": {
            "needs_background": "light"
          }
        }
      ],
      "source": [
        "\n",
        "Y_pred = KNNclassifier.predict(X_test)\n",
        "\n",
        "cm = confusion_matrix(y_test, Y_pred)\n",
        "sns.heatmap(cm, annot=True, fmt='d')\n"
      ]
    },
    {
      "cell_type": "markdown",
      "metadata": {
        "id": "ck6hkp2goJ2e"
      },
      "source": [
        "Hasil performance KNN"
      ]
    },
    {
      "cell_type": "code",
      "execution_count": 28,
      "metadata": {
        "id": "qb_kvP4VoO19",
        "colab": {
          "base_uri": "https://localhost:8080/"
        },
        "outputId": "a0d43f48-6b1f-4aaa-9ddf-30ccfc9b517a"
      },
      "outputs": [
        {
          "output_type": "stream",
          "name": "stdout",
          "text": [
            "              precision    recall  f1-score   support\n",
            "\n",
            " Afghanistan       0.44      0.36      0.40        11\n",
            "   Australia       0.71      0.76      0.73        63\n",
            "  Bangladesh       0.68      0.54      0.60        24\n",
            "     England       0.67      0.74      0.70        57\n",
            "       India       0.67      0.66      0.66        64\n",
            "     Ireland       0.50      0.33      0.40         3\n",
            "       Kenya       0.00      0.00      0.00         0\n",
            " Netherlands       0.00      0.00      0.00         1\n",
            " New Zealand       0.59      0.77      0.67        35\n",
            "    Pakistan       0.74      0.63      0.68        46\n",
            "    Scotland       0.00      0.00      0.00         1\n",
            "South Africa       0.54      0.48      0.51        31\n",
            "   Sri Lanka       0.46      0.67      0.55        46\n",
            " West Indies       0.36      0.25      0.30        16\n",
            "    Zimbabwe       0.33      0.14      0.20         7\n",
            "   no result       0.27      0.19      0.22        21\n",
            "        tied       0.00      0.00      0.00         8\n",
            "\n",
            "    accuracy                           0.60       434\n",
            "   macro avg       0.41      0.38      0.39       434\n",
            "weighted avg       0.59      0.60      0.59       434\n",
            "\n"
          ]
        },
        {
          "output_type": "stream",
          "name": "stderr",
          "text": [
            "/usr/local/lib/python3.7/dist-packages/sklearn/metrics/_classification.py:1308: UndefinedMetricWarning: Precision and F-score are ill-defined and being set to 0.0 in labels with no predicted samples. Use `zero_division` parameter to control this behavior.\n",
            "  _warn_prf(average, modifier, msg_start, len(result))\n",
            "/usr/local/lib/python3.7/dist-packages/sklearn/metrics/_classification.py:1308: UndefinedMetricWarning: Recall and F-score are ill-defined and being set to 0.0 in labels with no true samples. Use `zero_division` parameter to control this behavior.\n",
            "  _warn_prf(average, modifier, msg_start, len(result))\n",
            "/usr/local/lib/python3.7/dist-packages/sklearn/metrics/_classification.py:1308: UndefinedMetricWarning: Precision and F-score are ill-defined and being set to 0.0 in labels with no predicted samples. Use `zero_division` parameter to control this behavior.\n",
            "  _warn_prf(average, modifier, msg_start, len(result))\n",
            "/usr/local/lib/python3.7/dist-packages/sklearn/metrics/_classification.py:1308: UndefinedMetricWarning: Recall and F-score are ill-defined and being set to 0.0 in labels with no true samples. Use `zero_division` parameter to control this behavior.\n",
            "  _warn_prf(average, modifier, msg_start, len(result))\n",
            "/usr/local/lib/python3.7/dist-packages/sklearn/metrics/_classification.py:1308: UndefinedMetricWarning: Precision and F-score are ill-defined and being set to 0.0 in labels with no predicted samples. Use `zero_division` parameter to control this behavior.\n",
            "  _warn_prf(average, modifier, msg_start, len(result))\n",
            "/usr/local/lib/python3.7/dist-packages/sklearn/metrics/_classification.py:1308: UndefinedMetricWarning: Recall and F-score are ill-defined and being set to 0.0 in labels with no true samples. Use `zero_division` parameter to control this behavior.\n",
            "  _warn_prf(average, modifier, msg_start, len(result))\n"
          ]
        }
      ],
      "source": [
        "\n",
        "print(classification_report(y_test, Y_pred))\n"
      ]
    },
    {
      "cell_type": "markdown",
      "metadata": {
        "id": "toEtwhrYogeH"
      },
      "source": [
        "**XGBoost**"
      ]
    },
    {
      "cell_type": "code",
      "execution_count": 29,
      "metadata": {
        "colab": {
          "base_uri": "https://localhost:8080/"
        },
        "id": "ni6GRe1Fo16O",
        "outputId": "35f32c5c-37be-414c-b6c1-64355e4360fd"
      },
      "outputs": [
        {
          "output_type": "stream",
          "name": "stdout",
          "text": [
            "Training set accuracy:  0.695\n",
            "Test set accuracy:  0.671\n"
          ]
        }
      ],
      "source": [
        "\n",
        "xgbclassifier = XGBClassifier(seed=82)\n",
        "xgbclassifier.fit(X_train, y_train)\n",
        "\n",
        "score = xgbclassifier.score(X_train, y_train)\n",
        "score2 = xgbclassifier.score(X_test, y_test)\n",
        "\n",
        "\n",
        "print(\"Training set accuracy: \", '%.3f'%(score))\n",
        "print(\"Test set accuracy: \", '%.3f'%(score2))\n"
      ]
    },
    {
      "cell_type": "markdown",
      "metadata": {
        "id": "ZieqiB2su8Ku"
      },
      "source": [
        "Confusion Matrix dari XGBoost"
      ]
    },
    {
      "cell_type": "code",
      "execution_count": 30,
      "metadata": {
        "id": "dhQAnrVWvBpc",
        "colab": {
          "base_uri": "https://localhost:8080/",
          "height": 282
        },
        "outputId": "1c64aa80-4f02-47b3-f1f6-a1de0c828145"
      },
      "outputs": [
        {
          "output_type": "execute_result",
          "data": {
            "text/plain": [
              "<matplotlib.axes._subplots.AxesSubplot at 0x7ff1802942d0>"
            ]
          },
          "metadata": {},
          "execution_count": 30
        },
        {
          "output_type": "display_data",
          "data": {
            "image/png": "[encoded data removed]",
            "text/plain": [
              "<Figure size 432x288 with 2 Axes>"
            ]
          },
          "metadata": {
            "needs_background": "light"
          }
        }
      ],
      "source": [
        "\n",
        "Y_pred = xgbclassifier.predict(X_test)\n",
        "\n",
        "cm = confusion_matrix(y_test, Y_pred)\n",
        "sns.heatmap(cm, annot=True, fmt='d')\n"
      ]
    },
    {
      "cell_type": "markdown",
      "metadata": {
        "id": "IGgKpNa1vR8H"
      },
      "source": [
        "Hasil performance XGBoost"
      ]
    },
    {
      "cell_type": "code",
      "execution_count": 31,
      "metadata": {
        "id": "fHbYkx_zvzGX",
        "colab": {
          "base_uri": "https://localhost:8080/"
        },
        "outputId": "7aa3747a-ee68-445a-c0c4-41214990e75e"
      },
      "outputs": [
        {
          "output_type": "stream",
          "name": "stdout",
          "text": [
            "              precision    recall  f1-score   support\n",
            "\n",
            " Afghanistan       0.57      0.73      0.64        11\n",
            "   Australia       0.73      0.76      0.74        63\n",
            "  Bangladesh       0.85      0.46      0.59        24\n",
            "     England       0.62      0.91      0.74        57\n",
            "       India       0.71      0.91      0.79        64\n",
            "     Ireland       0.50      0.33      0.40         3\n",
            " Netherlands       0.00      0.00      0.00         1\n",
            " New Zealand       0.63      0.74      0.68        35\n",
            "    Pakistan       0.78      0.63      0.70        46\n",
            "    Scotland       0.00      0.00      0.00         1\n",
            "South Africa       0.66      0.68      0.67        31\n",
            "   Sri Lanka       0.59      0.65      0.62        46\n",
            " West Indies       0.60      0.38      0.46        16\n",
            "    Zimbabwe       0.50      0.14      0.22         7\n",
            "   no result       0.00      0.00      0.00        21\n",
            "        tied       0.00      0.00      0.00         8\n",
            "\n",
            "    accuracy                           0.67       434\n",
            "   macro avg       0.48      0.46      0.45       434\n",
            "weighted avg       0.63      0.67      0.64       434\n",
            "\n"
          ]
        },
        {
          "output_type": "stream",
          "name": "stderr",
          "text": [
            "/usr/local/lib/python3.7/dist-packages/sklearn/metrics/_classification.py:1308: UndefinedMetricWarning: Precision and F-score are ill-defined and being set to 0.0 in labels with no predicted samples. Use `zero_division` parameter to control this behavior.\n",
            "  _warn_prf(average, modifier, msg_start, len(result))\n",
            "/usr/local/lib/python3.7/dist-packages/sklearn/metrics/_classification.py:1308: UndefinedMetricWarning: Precision and F-score are ill-defined and being set to 0.0 in labels with no predicted samples. Use `zero_division` parameter to control this behavior.\n",
            "  _warn_prf(average, modifier, msg_start, len(result))\n",
            "/usr/local/lib/python3.7/dist-packages/sklearn/metrics/_classification.py:1308: UndefinedMetricWarning: Precision and F-score are ill-defined and being set to 0.0 in labels with no predicted samples. Use `zero_division` parameter to control this behavior.\n",
            "  _warn_prf(average, modifier, msg_start, len(result))\n"
          ]
        }
      ],
      "source": [
        "\n",
        "print(classification_report(y_test, Y_pred))\n"
      ]
    },
    {
      "cell_type": "markdown",
      "metadata": {
        "id": "8xFvpd8BwBNF"
      },
      "source": [
        "Dari semua algoritma classifier, Random Forest memiliki accuracy tertinggi, yaitu 70% untuk training set dan 67.5% untuk test set."
      ]
    },
    {
      "cell_type": "markdown",
      "metadata": {
        "id": "OPNKxYG6xY_V"
      },
      "source": [
        "**MENGEVALUASI MODEL TERBAIK KE TEST SET**  \n",
        "Menambahkan data ICC Ranking sehingga tim yang memiliki posisi teratas pada ICC Ranking memiliki peluang lebih besar untuk menang pada pertandingan. Tim tersebut akan dimasukkan ke kolom Team_1.\n",
        "\n"
      ]
    },
    {
      "cell_type": "code",
      "execution_count": 32,
      "metadata": {
        "id": "sqEGAB9NBaqc",
        "colab": {
          "resources": {
            "http://localhost:8080/nbextensions/google.colab/files.js": {
              "data": "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",
              "ok": true,
              "headers": [
                [
                  "content-type",
                  "application/javascript"
                ]
              ],
              "status": 200,
              "status_text": ""
            }
          },
          "base_uri": "https://localhost:8080/",
          "height": 130
        },
        "outputId": "21290529-ace1-440c-b0e5-9c5acdedb561"
      },
      "outputs": [
        {
          "output_type": "display_data",
          "data": {
            "text/html": [
              "\n",
              "     <input type=\"file\" id=\"files-5eca4764-8203-4618-b234-0f60b4797b92\" name=\"files[]\" multiple disabled\n",
              "        style=\"border:none\" />\n",
              "     <output id=\"result-5eca4764-8203-4618-b234-0f60b4797b92\">\n",
              "      Upload widget is only available when the cell has been executed in the\n",
              "      current browser session. Please rerun this cell to enable.\n",
              "      </output>\n",
              "      <script src=\"/nbextensions/google.colab/files.js\"></script> "
            ],
            "text/plain": [
              "<IPython.core.display.HTML object>"
            ]
          },
          "metadata": {}
        },
        {
          "output_type": "stream",
          "name": "stdout",
          "text": [
            "Saving icc_rankings.csv to icc_rankings.csv\n"
          ]
        },
        {
          "output_type": "display_data",
          "data": {
            "text/html": [
              "\n",
              "     <input type=\"file\" id=\"files-9ee5d2f1-b12a-48e3-803a-9e78297d973a\" name=\"files[]\" multiple disabled\n",
              "        style=\"border:none\" />\n",
              "     <output id=\"result-9ee5d2f1-b12a-48e3-803a-9e78297d973a\">\n",
              "      Upload widget is only available when the cell has been executed in the\n",
              "      current browser session. Please rerun this cell to enable.\n",
              "      </output>\n",
              "      <script src=\"/nbextensions/google.colab/files.js\"></script> "
            ],
            "text/plain": [
              "<IPython.core.display.HTML object>"
            ]
          },
          "metadata": {}
        },
        {
          "output_type": "stream",
          "name": "stdout",
          "text": [
            "Saving fixtures.csv to fixtures.csv\n"
          ]
        }
      ],
      "source": [
        "\n",
        "# Load datasets\n",
        "uploaded = files.upload()\n",
        "uploaded = files.upload()\n",
        "\n",
        "ranking = pd.read_csv('icc_rankings.csv') \n",
        "fixtures = pd.read_csv('fixtures.csv')\n"
      ]
    },
    {
      "cell_type": "code",
      "execution_count": 33,
      "metadata": {
        "id": "I0oHPID_7t8h",
        "colab": {
          "base_uri": "https://localhost:8080/",
          "height": 363
        },
        "outputId": "b9f13fa5-ff84-4cd3-ba3f-6b8737409726"
      },
      "outputs": [
        {
          "output_type": "execute_result",
          "data": {
            "text/html": [
              "<div>\n",
              "<style scoped>\n",
              "    .dataframe tbody tr th:only-of-type {\n",
              "        vertical-align: middle;\n",
              "    }\n",
              "\n",
              "    .dataframe tbody tr th {\n",
              "        vertical-align: top;\n",
              "    }\n",
              "\n",
              "    .dataframe thead th {\n",
              "        text-align: right;\n",
              "    }\n",
              "</style>\n",
              "<table border=\"1\" class=\"dataframe\">\n",
              "  <thead>\n",
              "    <tr style=\"text-align: right;\">\n",
              "      <th></th>\n",
              "      <th>Position</th>\n",
              "      <th>Team</th>\n",
              "      <th>Points</th>\n",
              "    </tr>\n",
              "  </thead>\n",
              "  <tbody>\n",
              "    <tr>\n",
              "      <th>0</th>\n",
              "      <td>1</td>\n",
              "      <td>England</td>\n",
              "      <td>125</td>\n",
              "    </tr>\n",
              "    <tr>\n",
              "      <th>1</th>\n",
              "      <td>2</td>\n",
              "      <td>India</td>\n",
              "      <td>121</td>\n",
              "    </tr>\n",
              "    <tr>\n",
              "      <th>2</th>\n",
              "      <td>3</td>\n",
              "      <td>South Africa</td>\n",
              "      <td>115</td>\n",
              "    </tr>\n",
              "    <tr>\n",
              "      <th>3</th>\n",
              "      <td>4</td>\n",
              "      <td>New Zealand</td>\n",
              "      <td>113</td>\n",
              "    </tr>\n",
              "    <tr>\n",
              "      <th>4</th>\n",
              "      <td>5</td>\n",
              "      <td>Australia</td>\n",
              "      <td>109</td>\n",
              "    </tr>\n",
              "    <tr>\n",
              "      <th>5</th>\n",
              "      <td>6</td>\n",
              "      <td>Pakistan</td>\n",
              "      <td>94</td>\n",
              "    </tr>\n",
              "    <tr>\n",
              "      <th>6</th>\n",
              "      <td>7</td>\n",
              "      <td>Bangladesh</td>\n",
              "      <td>90</td>\n",
              "    </tr>\n",
              "    <tr>\n",
              "      <th>7</th>\n",
              "      <td>8</td>\n",
              "      <td>West Indies</td>\n",
              "      <td>77</td>\n",
              "    </tr>\n",
              "    <tr>\n",
              "      <th>8</th>\n",
              "      <td>9</td>\n",
              "      <td>Sri Lanka</td>\n",
              "      <td>76</td>\n",
              "    </tr>\n",
              "    <tr>\n",
              "      <th>9</th>\n",
              "      <td>10</td>\n",
              "      <td>Afghanistan</td>\n",
              "      <td>63</td>\n",
              "    </tr>\n",
              "  </tbody>\n",
              "</table>\n",
              "</div>"
            ],
            "text/plain": [
              "   Position          Team  Points\n",
              "0         1       England     125\n",
              "1         2         India     121\n",
              "2         3  South Africa     115\n",
              "3         4   New Zealand     113\n",
              "4         5     Australia     109\n",
              "5         6      Pakistan      94\n",
              "6         7    Bangladesh      90\n",
              "7         8   West Indies      77\n",
              "8         9     Sri Lanka      76\n",
              "9        10   Afghanistan      63"
            ]
          },
          "metadata": {},
          "execution_count": 33
        }
      ],
      "source": [
        "\n",
        "ranking.head(10)\n"
      ]
    },
    {
      "cell_type": "code",
      "execution_count": 34,
      "metadata": {
        "id": "p3j0Fhxs72PJ",
        "colab": {
          "base_uri": "https://localhost:8080/",
          "height": 363
        },
        "outputId": "3f903846-56ab-4770-983e-34dfa7f54c98"
      },
      "outputs": [
        {
          "output_type": "execute_result",
          "data": {
            "text/html": [
              "<div>\n",
              "<style scoped>\n",
              "    .dataframe tbody tr th:only-of-type {\n",
              "        vertical-align: middle;\n",
              "    }\n",
              "\n",
              "    .dataframe tbody tr th {\n",
              "        vertical-align: top;\n",
              "    }\n",
              "\n",
              "    .dataframe thead th {\n",
              "        text-align: right;\n",
              "    }\n",
              "</style>\n",
              "<table border=\"1\" class=\"dataframe\">\n",
              "  <thead>\n",
              "    <tr style=\"text-align: right;\">\n",
              "      <th></th>\n",
              "      <th>Round Number</th>\n",
              "      <th>Date</th>\n",
              "      <th>Location</th>\n",
              "      <th>Team_1</th>\n",
              "      <th>Team_2</th>\n",
              "      <th>Group</th>\n",
              "      <th>Result</th>\n",
              "    </tr>\n",
              "  </thead>\n",
              "  <tbody>\n",
              "    <tr>\n",
              "      <th>0</th>\n",
              "      <td>1</td>\n",
              "      <td>30/05/2019</td>\n",
              "      <td>Kennington Oval, London</td>\n",
              "      <td>England</td>\n",
              "      <td>South Africa</td>\n",
              "      <td>Group A</td>\n",
              "      <td>NaN</td>\n",
              "    </tr>\n",
              "    <tr>\n",
              "      <th>1</th>\n",
              "      <td>1</td>\n",
              "      <td>31/05/2019</td>\n",
              "      <td>Trent Bridge, Nottingham</td>\n",
              "      <td>West Indies</td>\n",
              "      <td>Pakistan</td>\n",
              "      <td>Group A</td>\n",
              "      <td>NaN</td>\n",
              "    </tr>\n",
              "    <tr>\n",
              "      <th>2</th>\n",
              "      <td>1</td>\n",
              "      <td>1/6/2019</td>\n",
              "      <td>Sophia Gardens, Cardiff</td>\n",
              "      <td>New Zealand</td>\n",
              "      <td>Sri Lanka</td>\n",
              "      <td>Group A</td>\n",
              "      <td>NaN</td>\n",
              "    </tr>\n",
              "    <tr>\n",
              "      <th>3</th>\n",
              "      <td>1</td>\n",
              "      <td>1/6/2019</td>\n",
              "      <td>County Ground, Bristol</td>\n",
              "      <td>Afghanistan</td>\n",
              "      <td>Australia</td>\n",
              "      <td>Group A</td>\n",
              "      <td>NaN</td>\n",
              "    </tr>\n",
              "    <tr>\n",
              "      <th>4</th>\n",
              "      <td>1</td>\n",
              "      <td>2/6/2019</td>\n",
              "      <td>Kennington Oval, London</td>\n",
              "      <td>South Africa</td>\n",
              "      <td>Bangladesh</td>\n",
              "      <td>Group A</td>\n",
              "      <td>NaN</td>\n",
              "    </tr>\n",
              "    <tr>\n",
              "      <th>5</th>\n",
              "      <td>1</td>\n",
              "      <td>3/6/2019</td>\n",
              "      <td>Trent Bridge, Nottingham</td>\n",
              "      <td>England</td>\n",
              "      <td>Pakistan</td>\n",
              "      <td>Group A</td>\n",
              "      <td>NaN</td>\n",
              "    </tr>\n",
              "    <tr>\n",
              "      <th>6</th>\n",
              "      <td>1</td>\n",
              "      <td>4/6/2019</td>\n",
              "      <td>Sophia Gardens, Cardiff</td>\n",
              "      <td>Afghanistan</td>\n",
              "      <td>Sri Lanka</td>\n",
              "      <td>Group A</td>\n",
              "      <td>NaN</td>\n",
              "    </tr>\n",
              "    <tr>\n",
              "      <th>7</th>\n",
              "      <td>1</td>\n",
              "      <td>5/6/2019</td>\n",
              "      <td>The Rose Bowl, Southampton</td>\n",
              "      <td>South Africa</td>\n",
              "      <td>India</td>\n",
              "      <td>Group A</td>\n",
              "      <td>NaN</td>\n",
              "    </tr>\n",
              "    <tr>\n",
              "      <th>8</th>\n",
              "      <td>1</td>\n",
              "      <td>5/6/2019</td>\n",
              "      <td>Kennington Oval, London</td>\n",
              "      <td>Bangladesh</td>\n",
              "      <td>New Zealand</td>\n",
              "      <td>Group A</td>\n",
              "      <td>NaN</td>\n",
              "    </tr>\n",
              "    <tr>\n",
              "      <th>9</th>\n",
              "      <td>1</td>\n",
              "      <td>6/6/2019</td>\n",
              "      <td>Trent Bridge, Nottingham</td>\n",
              "      <td>Australia</td>\n",
              "      <td>West Indies</td>\n",
              "      <td>Group A</td>\n",
              "      <td>NaN</td>\n",
              "    </tr>\n",
              "  </tbody>\n",
              "</table>\n",
              "</div>"
            ],
            "text/plain": [
              "  Round Number        Date  ...   Group  Result\n",
              "0            1  30/05/2019  ...  Group A    NaN\n",
              "1            1  31/05/2019  ...  Group A    NaN\n",
              "2            1    1/6/2019  ...  Group A    NaN\n",
              "3            1    1/6/2019  ...  Group A    NaN\n",
              "4            1    2/6/2019  ...  Group A    NaN\n",
              "5            1    3/6/2019  ...  Group A    NaN\n",
              "6            1    4/6/2019  ...  Group A    NaN\n",
              "7            1    5/6/2019  ...  Group A    NaN\n",
              "8            1    5/6/2019  ...  Group A    NaN\n",
              "9            1    6/6/2019  ...  Group A    NaN\n",
              "\n",
              "[10 rows x 7 columns]"
            ]
          },
          "metadata": {},
          "execution_count": 34
        }
      ],
      "source": [
        "\n",
        "fixtures.head(10)\n"
      ]
    },
    {
      "cell_type": "markdown",
      "metadata": {
        "id": "Dz9b2X0p6Ais"
      },
      "source": [
        "Menambahkan kolom baru dengan rank position untuk tiap tim dan memotong 45 data pertama karena akan mengambil 45 pertandingan stage group."
      ]
    },
    {
      "cell_type": "code",
      "execution_count": 35,
      "metadata": {
        "id": "Yf45IvWBBaqc",
        "colab": {
          "base_uri": "https://localhost:8080/",
          "height": 206
        },
        "outputId": "decdf233-7f40-4bcc-c9d8-cf9eab5d3fdf"
      },
      "outputs": [
        {
          "output_type": "execute_result",
          "data": {
            "text/html": [
              "<div>\n",
              "<style scoped>\n",
              "    .dataframe tbody tr th:only-of-type {\n",
              "        vertical-align: middle;\n",
              "    }\n",
              "\n",
              "    .dataframe tbody tr th {\n",
              "        vertical-align: top;\n",
              "    }\n",
              "\n",
              "    .dataframe thead th {\n",
              "        text-align: right;\n",
              "    }\n",
              "</style>\n",
              "<table border=\"1\" class=\"dataframe\">\n",
              "  <thead>\n",
              "    <tr style=\"text-align: right;\">\n",
              "      <th></th>\n",
              "      <th>Round Number</th>\n",
              "      <th>first_position</th>\n",
              "      <th>second_position</th>\n",
              "      <th>Date</th>\n",
              "      <th>Location</th>\n",
              "      <th>Team_1</th>\n",
              "      <th>Team_2</th>\n",
              "      <th>Group</th>\n",
              "      <th>Result</th>\n",
              "    </tr>\n",
              "  </thead>\n",
              "  <tbody>\n",
              "    <tr>\n",
              "      <th>40</th>\n",
              "      <td>1</td>\n",
              "      <td>1.0</td>\n",
              "      <td>4.0</td>\n",
              "      <td>3/7/2019</td>\n",
              "      <td>Riverside Ground, Chester-le-Street</td>\n",
              "      <td>England</td>\n",
              "      <td>New Zealand</td>\n",
              "      <td>Group A</td>\n",
              "      <td>NaN</td>\n",
              "    </tr>\n",
              "    <tr>\n",
              "      <th>41</th>\n",
              "      <td>1</td>\n",
              "      <td>10.0</td>\n",
              "      <td>8.0</td>\n",
              "      <td>4/7/2019</td>\n",
              "      <td>Headingley, Leeds</td>\n",
              "      <td>Afghanistan</td>\n",
              "      <td>West Indies</td>\n",
              "      <td>Group A</td>\n",
              "      <td>NaN</td>\n",
              "    </tr>\n",
              "    <tr>\n",
              "      <th>42</th>\n",
              "      <td>1</td>\n",
              "      <td>6.0</td>\n",
              "      <td>7.0</td>\n",
              "      <td>5/7/2019</td>\n",
              "      <td>Lord's, London</td>\n",
              "      <td>Pakistan</td>\n",
              "      <td>Bangladesh</td>\n",
              "      <td>Group A</td>\n",
              "      <td>NaN</td>\n",
              "    </tr>\n",
              "    <tr>\n",
              "      <th>43</th>\n",
              "      <td>1</td>\n",
              "      <td>9.0</td>\n",
              "      <td>2.0</td>\n",
              "      <td>6/7/2019</td>\n",
              "      <td>Headingley, Leeds</td>\n",
              "      <td>Sri Lanka</td>\n",
              "      <td>India</td>\n",
              "      <td>Group A</td>\n",
              "      <td>NaN</td>\n",
              "    </tr>\n",
              "    <tr>\n",
              "      <th>44</th>\n",
              "      <td>1</td>\n",
              "      <td>5.0</td>\n",
              "      <td>3.0</td>\n",
              "      <td>6/7/2019</td>\n",
              "      <td>Emirates Old Trafford, Manchester</td>\n",
              "      <td>Australia</td>\n",
              "      <td>South Africa</td>\n",
              "      <td>Group A</td>\n",
              "      <td>NaN</td>\n",
              "    </tr>\n",
              "  </tbody>\n",
              "</table>\n",
              "</div>"
            ],
            "text/plain": [
              "   Round Number  first_position  second_position  ...        Team_2   Group  Result\n",
              "40            1             1.0              4.0  ...   New Zealand  Group A    NaN\n",
              "41            1            10.0              8.0  ...   West Indies  Group A    NaN\n",
              "42            1             6.0              7.0  ...    Bangladesh  Group A    NaN\n",
              "43            1             9.0              2.0  ...         India  Group A    NaN\n",
              "44            1             5.0              3.0  ...  South Africa  Group A    NaN\n",
              "\n",
              "[5 rows x 9 columns]"
            ]
          },
          "metadata": {},
          "execution_count": 35
        }
      ],
      "source": [
        "\n",
        "fixtures.insert(1, 'first_position', fixtures['Team_1'].map(ranking.set_index('Team')['Position']))\n",
        "fixtures.insert(2, 'second_position', fixtures['Team_2'].map(ranking.set_index('Team')['Position']))\n",
        "\n",
        "fixtures = fixtures.iloc[:45, :]\n",
        "fixtures.tail()\n"
      ]
    },
    {
      "cell_type": "markdown",
      "metadata": {
        "id": "8Jnx489s8gxd"
      },
      "source": [
        "Looping untuk menambahkan tim ke `pred_set` berdasarkan posisi rank tiap tim."
      ]
    },
    {
      "cell_type": "code",
      "execution_count": 36,
      "metadata": {
        "id": "0ORNd3bxBaqd",
        "colab": {
          "base_uri": "https://localhost:8080/",
          "height": 363
        },
        "outputId": "4c43953a-4c3a-4310-a557-007f3351ab90"
      },
      "outputs": [
        {
          "output_type": "execute_result",
          "data": {
            "text/html": [
              "<div>\n",
              "<style scoped>\n",
              "    .dataframe tbody tr th:only-of-type {\n",
              "        vertical-align: middle;\n",
              "    }\n",
              "\n",
              "    .dataframe tbody tr th {\n",
              "        vertical-align: top;\n",
              "    }\n",
              "\n",
              "    .dataframe thead th {\n",
              "        text-align: right;\n",
              "    }\n",
              "</style>\n",
              "<table border=\"1\" class=\"dataframe\">\n",
              "  <thead>\n",
              "    <tr style=\"text-align: right;\">\n",
              "      <th></th>\n",
              "      <th>Team_1</th>\n",
              "      <th>Team_2</th>\n",
              "      <th>winning_team</th>\n",
              "    </tr>\n",
              "  </thead>\n",
              "  <tbody>\n",
              "    <tr>\n",
              "      <th>0</th>\n",
              "      <td>England</td>\n",
              "      <td>South Africa</td>\n",
              "      <td>None</td>\n",
              "    </tr>\n",
              "    <tr>\n",
              "      <th>1</th>\n",
              "      <td>Pakistan</td>\n",
              "      <td>West Indies</td>\n",
              "      <td>None</td>\n",
              "    </tr>\n",
              "    <tr>\n",
              "      <th>2</th>\n",
              "      <td>New Zealand</td>\n",
              "      <td>Sri Lanka</td>\n",
              "      <td>None</td>\n",
              "    </tr>\n",
              "    <tr>\n",
              "      <th>3</th>\n",
              "      <td>Australia</td>\n",
              "      <td>Afghanistan</td>\n",
              "      <td>None</td>\n",
              "    </tr>\n",
              "    <tr>\n",
              "      <th>4</th>\n",
              "      <td>South Africa</td>\n",
              "      <td>Bangladesh</td>\n",
              "      <td>None</td>\n",
              "    </tr>\n",
              "    <tr>\n",
              "      <th>5</th>\n",
              "      <td>England</td>\n",
              "      <td>Pakistan</td>\n",
              "      <td>None</td>\n",
              "    </tr>\n",
              "    <tr>\n",
              "      <th>6</th>\n",
              "      <td>Sri Lanka</td>\n",
              "      <td>Afghanistan</td>\n",
              "      <td>None</td>\n",
              "    </tr>\n",
              "    <tr>\n",
              "      <th>7</th>\n",
              "      <td>India</td>\n",
              "      <td>South Africa</td>\n",
              "      <td>None</td>\n",
              "    </tr>\n",
              "    <tr>\n",
              "      <th>8</th>\n",
              "      <td>New Zealand</td>\n",
              "      <td>Bangladesh</td>\n",
              "      <td>None</td>\n",
              "    </tr>\n",
              "    <tr>\n",
              "      <th>9</th>\n",
              "      <td>Australia</td>\n",
              "      <td>West Indies</td>\n",
              "      <td>None</td>\n",
              "    </tr>\n",
              "  </tbody>\n",
              "</table>\n",
              "</div>"
            ],
            "text/plain": [
              "         Team_1        Team_2 winning_team\n",
              "0       England  South Africa         None\n",
              "1      Pakistan   West Indies         None\n",
              "2   New Zealand     Sri Lanka         None\n",
              "3     Australia   Afghanistan         None\n",
              "4  South Africa    Bangladesh         None\n",
              "5       England      Pakistan         None\n",
              "6     Sri Lanka   Afghanistan         None\n",
              "7         India  South Africa         None\n",
              "8   New Zealand    Bangladesh         None\n",
              "9     Australia   West Indies         None"
            ]
          },
          "metadata": {},
          "execution_count": 36
        }
      ],
      "source": [
        "\n",
        "# List untuk menyimpan data prediksi\n",
        "pred_set = []\n",
        "\n",
        "for index, row in fixtures.iterrows():\n",
        "    if row['first_position'] < row['second_position']:\n",
        "        pred_set.append({'Team_1': row['Team_1'], 'Team_2': row['Team_2'], 'winning_team': None})\n",
        "    else:\n",
        "        pred_set.append({'Team_1': row['Team_2'], 'Team_2': row['Team_1'], 'winning_team': None})\n",
        "\n",
        "# Convert list ke DataFrame        \n",
        "pred_set = pd.DataFrame(pred_set)\n",
        "backup_pred_set = pred_set\n",
        "pred_set.head(10)\n"
      ]
    },
    {
      "cell_type": "markdown",
      "metadata": {
        "id": "X01OwwFF9cz8"
      },
      "source": [
        "Mengubah Team_1 dan Team_2 menjadi dummy variable dengan function `pd.get_dummies`, sehingga akan memiliki value 0 dan 1.\n",
        "\n",
        "Kolom yang hilang diisi berdasarkan training model `final`.\n",
        "\n",
        "Lalu drop kolom winning_team.\n",
        "\n",
        "\n"
      ]
    },
    {
      "cell_type": "code",
      "execution_count": 37,
      "metadata": {
        "colab": {
          "base_uri": "https://localhost:8080/",
          "height": 400
        },
        "id": "bg4OQ-9ABaqd",
        "outputId": "6fd61e75-ca45-44c2-bf98-182ecadec3e9"
      },
      "outputs": [
        {
          "output_type": "execute_result",
          "data": {
            "text/html": [
              "<div>\n",
              "<style scoped>\n",
              "    .dataframe tbody tr th:only-of-type {\n",
              "        vertical-align: middle;\n",
              "    }\n",
              "\n",
              "    .dataframe tbody tr th {\n",
              "        vertical-align: top;\n",
              "    }\n",
              "\n",
              "    .dataframe thead th {\n",
              "        text-align: right;\n",
              "    }\n",
              "</style>\n",
              "<table border=\"1\" class=\"dataframe\">\n",
              "  <thead>\n",
              "    <tr style=\"text-align: right;\">\n",
              "      <th></th>\n",
              "      <th>Team_1_Afghanistan</th>\n",
              "      <th>Team_1_Australia</th>\n",
              "      <th>Team_1_Bangladesh</th>\n",
              "      <th>Team_1_Canada</th>\n",
              "      <th>Team_1_England</th>\n",
              "      <th>Team_1_India</th>\n",
              "      <th>Team_1_Ireland</th>\n",
              "      <th>Team_1_Kenya</th>\n",
              "      <th>Team_1_Netherlands</th>\n",
              "      <th>Team_1_New Zealand</th>\n",
              "      <th>Team_1_Pakistan</th>\n",
              "      <th>Team_1_Scotland</th>\n",
              "      <th>Team_1_South Africa</th>\n",
              "      <th>Team_1_Sri Lanka</th>\n",
              "      <th>Team_1_U.A.E.</th>\n",
              "      <th>Team_1_West Indies</th>\n",
              "      <th>Team_1_Zimbabwe</th>\n",
              "      <th>Team_2_Afghanistan</th>\n",
              "      <th>Team_2_Australia</th>\n",
              "      <th>Team_2_Bangladesh</th>\n",
              "      <th>Team_2_Canada</th>\n",
              "      <th>Team_2_England</th>\n",
              "      <th>Team_2_Hong Kong</th>\n",
              "      <th>Team_2_India</th>\n",
              "      <th>Team_2_Ireland</th>\n",
              "      <th>Team_2_Kenya</th>\n",
              "      <th>Team_2_Netherlands</th>\n",
              "      <th>Team_2_New Zealand</th>\n",
              "      <th>Team_2_Pakistan</th>\n",
              "      <th>Team_2_Scotland</th>\n",
              "      <th>Team_2_South Africa</th>\n",
              "      <th>Team_2_Sri Lanka</th>\n",
              "      <th>Team_2_U.A.E.</th>\n",
              "      <th>Team_2_West Indies</th>\n",
              "      <th>Team_2_Zimbabwe</th>\n",
              "    </tr>\n",
              "  </thead>\n",
              "  <tbody>\n",
              "    <tr>\n",
              "      <th>0</th>\n",
              "      <td>0</td>\n",
              "      <td>0</td>\n",
              "      <td>0</td>\n",
              "      <td>0</td>\n",
              "      <td>1</td>\n",
              "      <td>0</td>\n",
              "      <td>0</td>\n",
              "      <td>0</td>\n",
              "      <td>0</td>\n",
              "      <td>0</td>\n",
              "      <td>0</td>\n",
              "      <td>0</td>\n",
              "      <td>0</td>\n",
              "      <td>0</td>\n",
              "      <td>0</td>\n",
              "      <td>0</td>\n",
              "      <td>0</td>\n",
              "      <td>0</td>\n",
              "      <td>0</td>\n",
              "      <td>0</td>\n",
              "      <td>0</td>\n",
              "      <td>0</td>\n",
              "      <td>0</td>\n",
              "      <td>0</td>\n",
              "      <td>0</td>\n",
              "      <td>0</td>\n",
              "      <td>0</td>\n",
              "      <td>0</td>\n",
              "      <td>0</td>\n",
              "      <td>0</td>\n",
              "      <td>1</td>\n",
              "      <td>0</td>\n",
              "      <td>0</td>\n",
              "      <td>0</td>\n",
              "      <td>0</td>\n",
              "    </tr>\n",
              "    <tr>\n",
              "      <th>1</th>\n",
              "      <td>0</td>\n",
              "      <td>0</td>\n",
              "      <td>0</td>\n",
              "      <td>0</td>\n",
              "      <td>0</td>\n",
              "      <td>0</td>\n",
              "      <td>0</td>\n",
              "      <td>0</td>\n",
              "      <td>0</td>\n",
              "      <td>0</td>\n",
              "      <td>1</td>\n",
              "      <td>0</td>\n",
              "      <td>0</td>\n",
              "      <td>0</td>\n",
              "      <td>0</td>\n",
              "      <td>0</td>\n",
              "      <td>0</td>\n",
              "      <td>0</td>\n",
              "      <td>0</td>\n",
              "      <td>0</td>\n",
              "      <td>0</td>\n",
              "      <td>0</td>\n",
              "      <td>0</td>\n",
              "      <td>0</td>\n",
              "      <td>0</td>\n",
              "      <td>0</td>\n",
              "      <td>0</td>\n",
              "      <td>0</td>\n",
              "      <td>0</td>\n",
              "      <td>0</td>\n",
              "      <td>0</td>\n",
              "      <td>0</td>\n",
              "      <td>0</td>\n",
              "      <td>1</td>\n",
              "      <td>0</td>\n",
              "    </tr>\n",
              "    <tr>\n",
              "      <th>2</th>\n",
              "      <td>0</td>\n",
              "      <td>0</td>\n",
              "      <td>0</td>\n",
              "      <td>0</td>\n",
              "      <td>0</td>\n",
              "      <td>0</td>\n",
              "      <td>0</td>\n",
              "      <td>0</td>\n",
              "      <td>0</td>\n",
              "      <td>1</td>\n",
              "      <td>0</td>\n",
              "      <td>0</td>\n",
              "      <td>0</td>\n",
              "      <td>0</td>\n",
              "      <td>0</td>\n",
              "      <td>0</td>\n",
              "      <td>0</td>\n",
              "      <td>0</td>\n",
              "      <td>0</td>\n",
              "      <td>0</td>\n",
              "      <td>0</td>\n",
              "      <td>0</td>\n",
              "      <td>0</td>\n",
              "      <td>0</td>\n",
              "      <td>0</td>\n",
              "      <td>0</td>\n",
              "      <td>0</td>\n",
              "      <td>0</td>\n",
              "      <td>0</td>\n",
              "      <td>0</td>\n",
              "      <td>0</td>\n",
              "      <td>1</td>\n",
              "      <td>0</td>\n",
              "      <td>0</td>\n",
              "      <td>0</td>\n",
              "    </tr>\n",
              "    <tr>\n",
              "      <th>3</th>\n",
              "      <td>0</td>\n",
              "      <td>1</td>\n",
              "      <td>0</td>\n",
              "      <td>0</td>\n",
              "      <td>0</td>\n",
              "      <td>0</td>\n",
              "      <td>0</td>\n",
              "      <td>0</td>\n",
              "      <td>0</td>\n",
              "      <td>0</td>\n",
              "      <td>0</td>\n",
              "      <td>0</td>\n",
              "      <td>0</td>\n",
              "      <td>0</td>\n",
              "      <td>0</td>\n",
              "      <td>0</td>\n",
              "      <td>0</td>\n",
              "      <td>1</td>\n",
              "      <td>0</td>\n",
              "      <td>0</td>\n",
              "      <td>0</td>\n",
              "      <td>0</td>\n",
              "      <td>0</td>\n",
              "      <td>0</td>\n",
              "      <td>0</td>\n",
              "      <td>0</td>\n",
              "      <td>0</td>\n",
              "      <td>0</td>\n",
              "      <td>0</td>\n",
              "      <td>0</td>\n",
              "      <td>0</td>\n",
              "      <td>0</td>\n",
              "      <td>0</td>\n",
              "      <td>0</td>\n",
              "      <td>0</td>\n",
              "    </tr>\n",
              "    <tr>\n",
              "      <th>4</th>\n",
              "      <td>0</td>\n",
              "      <td>0</td>\n",
              "      <td>0</td>\n",
              "      <td>0</td>\n",
              "      <td>0</td>\n",
              "      <td>0</td>\n",
              "      <td>0</td>\n",
              "      <td>0</td>\n",
              "      <td>0</td>\n",
              "      <td>0</td>\n",
              "      <td>0</td>\n",
              "      <td>0</td>\n",
              "      <td>1</td>\n",
              "      <td>0</td>\n",
              "      <td>0</td>\n",
              "      <td>0</td>\n",
              "      <td>0</td>\n",
              "      <td>0</td>\n",
              "      <td>0</td>\n",
              "      <td>1</td>\n",
              "      <td>0</td>\n",
              "      <td>0</td>\n",
              "      <td>0</td>\n",
              "      <td>0</td>\n",
              "      <td>0</td>\n",
              "      <td>0</td>\n",
              "      <td>0</td>\n",
              "      <td>0</td>\n",
              "      <td>0</td>\n",
              "      <td>0</td>\n",
              "      <td>0</td>\n",
              "      <td>0</td>\n",
              "      <td>0</td>\n",
              "      <td>0</td>\n",
              "      <td>0</td>\n",
              "    </tr>\n",
              "    <tr>\n",
              "      <th>5</th>\n",
              "      <td>0</td>\n",
              "      <td>0</td>\n",
              "      <td>0</td>\n",
              "      <td>0</td>\n",
              "      <td>1</td>\n",
              "      <td>0</td>\n",
              "      <td>0</td>\n",
              "      <td>0</td>\n",
              "      <td>0</td>\n",
              "      <td>0</td>\n",
              "      <td>0</td>\n",
              "      <td>0</td>\n",
              "      <td>0</td>\n",
              "      <td>0</td>\n",
              "      <td>0</td>\n",
              "      <td>0</td>\n",
              "      <td>0</td>\n",
              "      <td>0</td>\n",
              "      <td>0</td>\n",
              "      <td>0</td>\n",
              "      <td>0</td>\n",
              "      <td>0</td>\n",
              "      <td>0</td>\n",
              "      <td>0</td>\n",
              "      <td>0</td>\n",
              "      <td>0</td>\n",
              "      <td>0</td>\n",
              "      <td>0</td>\n",
              "      <td>1</td>\n",
              "      <td>0</td>\n",
              "      <td>0</td>\n",
              "      <td>0</td>\n",
              "      <td>0</td>\n",
              "      <td>0</td>\n",
              "      <td>0</td>\n",
              "    </tr>\n",
              "    <tr>\n",
              "      <th>6</th>\n",
              "      <td>0</td>\n",
              "      <td>0</td>\n",
              "      <td>0</td>\n",
              "      <td>0</td>\n",
              "      <td>0</td>\n",
              "      <td>0</td>\n",
              "      <td>0</td>\n",
              "      <td>0</td>\n",
              "      <td>0</td>\n",
              "      <td>0</td>\n",
              "      <td>0</td>\n",
              "      <td>0</td>\n",
              "      <td>0</td>\n",
              "      <td>1</td>\n",
              "      <td>0</td>\n",
              "      <td>0</td>\n",
              "      <td>0</td>\n",
              "      <td>1</td>\n",
              "      <td>0</td>\n",
              "      <td>0</td>\n",
              "      <td>0</td>\n",
              "      <td>0</td>\n",
              "      <td>0</td>\n",
              "      <td>0</td>\n",
              "      <td>0</td>\n",
              "      <td>0</td>\n",
              "      <td>0</td>\n",
              "      <td>0</td>\n",
              "      <td>0</td>\n",
              "      <td>0</td>\n",
              "      <td>0</td>\n",
              "      <td>0</td>\n",
              "      <td>0</td>\n",
              "      <td>0</td>\n",
              "      <td>0</td>\n",
              "    </tr>\n",
              "    <tr>\n",
              "      <th>7</th>\n",
              "      <td>0</td>\n",
              "      <td>0</td>\n",
              "      <td>0</td>\n",
              "      <td>0</td>\n",
              "      <td>0</td>\n",
              "      <td>1</td>\n",
              "      <td>0</td>\n",
              "      <td>0</td>\n",
              "      <td>0</td>\n",
              "      <td>0</td>\n",
              "      <td>0</td>\n",
              "      <td>0</td>\n",
              "      <td>0</td>\n",
              "      <td>0</td>\n",
              "      <td>0</td>\n",
              "      <td>0</td>\n",
              "      <td>0</td>\n",
              "      <td>0</td>\n",
              "      <td>0</td>\n",
              "      <td>0</td>\n",
              "      <td>0</td>\n",
              "      <td>0</td>\n",
              "      <td>0</td>\n",
              "      <td>0</td>\n",
              "      <td>0</td>\n",
              "      <td>0</td>\n",
              "      <td>0</td>\n",
              "      <td>0</td>\n",
              "      <td>0</td>\n",
              "      <td>0</td>\n",
              "      <td>1</td>\n",
              "      <td>0</td>\n",
              "      <td>0</td>\n",
              "      <td>0</td>\n",
              "      <td>0</td>\n",
              "    </tr>\n",
              "    <tr>\n",
              "      <th>8</th>\n",
              "      <td>0</td>\n",
              "      <td>0</td>\n",
              "      <td>0</td>\n",
              "      <td>0</td>\n",
              "      <td>0</td>\n",
              "      <td>0</td>\n",
              "      <td>0</td>\n",
              "      <td>0</td>\n",
              "      <td>0</td>\n",
              "      <td>1</td>\n",
              "      <td>0</td>\n",
              "      <td>0</td>\n",
              "      <td>0</td>\n",
              "      <td>0</td>\n",
              "      <td>0</td>\n",
              "      <td>0</td>\n",
              "      <td>0</td>\n",
              "      <td>0</td>\n",
              "      <td>0</td>\n",
              "      <td>1</td>\n",
              "      <td>0</td>\n",
              "      <td>0</td>\n",
              "      <td>0</td>\n",
              "      <td>0</td>\n",
              "      <td>0</td>\n",
              "      <td>0</td>\n",
              "      <td>0</td>\n",
              "      <td>0</td>\n",
              "      <td>0</td>\n",
              "      <td>0</td>\n",
              "      <td>0</td>\n",
              "      <td>0</td>\n",
              "      <td>0</td>\n",
              "      <td>0</td>\n",
              "      <td>0</td>\n",
              "    </tr>\n",
              "    <tr>\n",
              "      <th>9</th>\n",
              "      <td>0</td>\n",
              "      <td>1</td>\n",
              "      <td>0</td>\n",
              "      <td>0</td>\n",
              "      <td>0</td>\n",
              "      <td>0</td>\n",
              "      <td>0</td>\n",
              "      <td>0</td>\n",
              "      <td>0</td>\n",
              "      <td>0</td>\n",
              "      <td>0</td>\n",
              "      <td>0</td>\n",
              "      <td>0</td>\n",
              "      <td>0</td>\n",
              "      <td>0</td>\n",
              "      <td>0</td>\n",
              "      <td>0</td>\n",
              "      <td>0</td>\n",
              "      <td>0</td>\n",
              "      <td>0</td>\n",
              "      <td>0</td>\n",
              "      <td>0</td>\n",
              "      <td>0</td>\n",
              "      <td>0</td>\n",
              "      <td>0</td>\n",
              "      <td>0</td>\n",
              "      <td>0</td>\n",
              "      <td>0</td>\n",
              "      <td>0</td>\n",
              "      <td>0</td>\n",
              "      <td>0</td>\n",
              "      <td>0</td>\n",
              "      <td>0</td>\n",
              "      <td>1</td>\n",
              "      <td>0</td>\n",
              "    </tr>\n",
              "  </tbody>\n",
              "</table>\n",
              "</div>"
            ],
            "text/plain": [
              "   Team_1_Afghanistan  Team_1_Australia  ...  Team_2_West Indies  Team_2_Zimbabwe\n",
              "0                   0                 0  ...                   0                0\n",
              "1                   0                 0  ...                   1                0\n",
              "2                   0                 0  ...                   0                0\n",
              "3                   0                 1  ...                   0                0\n",
              "4                   0                 0  ...                   0                0\n",
              "5                   0                 0  ...                   0                0\n",
              "6                   0                 0  ...                   0                0\n",
              "7                   0                 0  ...                   0                0\n",
              "8                   0                 0  ...                   0                0\n",
              "9                   0                 1  ...                   1                0\n",
              "\n",
              "[10 rows x 35 columns]"
            ]
          },
          "metadata": {},
          "execution_count": 37
        }
      ],
      "source": [
        "\n",
        "pred_set = pd.get_dummies(pred_set, prefix=['Team_1', 'Team_2'], columns=['Team_1', 'Team_2'])\n",
        "\n",
        "missing_cols = set(final.columns) - set(pred_set.columns)\n",
        "for c in missing_cols:\n",
        "    pred_set[c] = 0\n",
        "pred_set = pred_set[final.columns]\n",
        "\n",
        "\n",
        "pred_set = pred_set.drop(['Winner'], axis=1)\n",
        "pred_set.head(10)\n"
      ]
    },
    {
      "cell_type": "markdown",
      "metadata": {
        "id": "ZiJTTiA9Bj9P"
      },
      "source": [
        "**INTERPRETASI HASIL MODEL**  \n",
        "\n",
        "Mencari hasil dari tiap pertandingan stage group"
      ]
    },
    {
      "cell_type": "code",
      "execution_count": 38,
      "metadata": {
        "id": "vsN36x61Baqd",
        "colab": {
          "base_uri": "https://localhost:8080/"
        },
        "outputId": "e2a3cb52-bd6a-45fe-d804-007d896ac9d7"
      },
      "outputs": [
        {
          "output_type": "stream",
          "name": "stdout",
          "text": [
            "South Africa and England\n",
            "Winner: England\n",
            "\n",
            "West Indies and Pakistan\n",
            "Winner: Pakistan\n",
            "\n",
            "Sri Lanka and New Zealand\n",
            "Winner: New Zealand\n",
            "\n",
            "Afghanistan and Australia\n",
            "Winner: Australia\n",
            "\n",
            "Bangladesh and South Africa\n",
            "Winner: South Africa\n",
            "\n",
            "Pakistan and England\n",
            "Winner: England\n",
            "\n",
            "Afghanistan and Sri Lanka\n",
            "Winner: Sri Lanka\n",
            "\n",
            "South Africa and India\n",
            "Winner: India\n",
            "\n",
            "Bangladesh and New Zealand\n",
            "Winner: New Zealand\n",
            "\n",
            "West Indies and Australia\n",
            "Winner: Australia\n",
            "\n",
            "Sri Lanka and Pakistan\n",
            "Winner: Pakistan\n",
            "\n",
            "Bangladesh and England\n",
            "Winner: England\n",
            "\n",
            "Afghanistan and New Zealand\n",
            "Winner: New Zealand\n",
            "\n",
            "Australia and India\n",
            "Winner: India\n",
            "\n",
            "West Indies and South Africa\n",
            "Winner: South Africa\n",
            "\n",
            "Sri Lanka and Bangladesh\n",
            "Winner: Bangladesh\n",
            "\n",
            "Pakistan and Australia\n",
            "Winner: Australia\n",
            "\n",
            "New Zealand and India\n",
            "Winner: India\n",
            "\n",
            "West Indies and England\n",
            "Winner: England\n",
            "\n",
            "Sri Lanka and Australia\n",
            "Winner: Australia\n",
            "\n",
            "Afghanistan and South Africa\n",
            "Winner: South Africa\n",
            "\n",
            "Pakistan and India\n",
            "Winner: India\n",
            "\n",
            "West Indies and Bangladesh\n",
            "Winner: Bangladesh\n",
            "\n",
            "Afghanistan and England\n",
            "Winner: England\n",
            "\n",
            "New Zealand and South Africa\n",
            "Winner: South Africa\n",
            "\n",
            "Bangladesh and Australia\n",
            "Winner: Australia\n",
            "\n",
            "Sri Lanka and England\n",
            "Winner: England\n",
            "\n",
            "Afghanistan and India\n",
            "Winner: India\n",
            "\n",
            "West Indies and New Zealand\n",
            "Winner: New Zealand\n",
            "\n",
            "Pakistan and South Africa\n",
            "Winner: South Africa\n",
            "\n",
            "Afghanistan and Bangladesh\n",
            "Winner: Bangladesh\n",
            "\n",
            "Australia and England\n",
            "Winner: England\n",
            "\n",
            "Pakistan and New Zealand\n",
            "Winner: New Zealand\n",
            "\n",
            "West Indies and India\n",
            "Winner: India\n",
            "\n",
            "Sri Lanka and South Africa\n",
            "Winner: South Africa\n",
            "\n",
            "Afghanistan and Pakistan\n",
            "Winner: Pakistan\n",
            "\n",
            "Australia and New Zealand\n",
            "Winner: New Zealand\n",
            "\n",
            "India and England\n",
            "Winner: England\n",
            "\n",
            "Sri Lanka and West Indies\n",
            "Winner: West Indies\n",
            "\n",
            "Bangladesh and India\n",
            "Winner: India\n",
            "\n",
            "New Zealand and England\n",
            "Winner: England\n",
            "\n",
            "Afghanistan and West Indies\n",
            "Winner: West Indies\n",
            "\n",
            "Bangladesh and Pakistan\n",
            "Winner: Pakistan\n",
            "\n",
            "Sri Lanka and India\n",
            "Winner: India\n",
            "\n",
            "Australia and South Africa\n",
            "Winner: South Africa\n",
            "\n"
          ]
        }
      ],
      "source": [
        "\n",
        "predictions = rf.predict(pred_set)\n",
        "for i in range(fixtures.shape[0]):\n",
        "    # Print Tim 1 dan Tim 2 yang bertanding\n",
        "    print(backup_pred_set.iloc[i, 1] + \" and \" + backup_pred_set.iloc[i, 0])\n",
        "    # Jika Tim 1 menang (label 1), maka print dan sebaliknya\n",
        "    if predictions[i] == 1:\n",
        "        print(\"Winner: \" + backup_pred_set.iloc[i, 1])\n",
        "    \n",
        "    else:\n",
        "        print(\"Winner: \" + backup_pred_set.iloc[i, 0])\n",
        "    print(\"\")\n"
      ]
    },
    {
      "cell_type": "markdown",
      "metadata": {
        "id": "kTw6gvNgCpIU"
      },
      "source": [
        "Dari hasil pertandingan diatas, 4 tim yang memiliki kemenangan terbanyak adalah England, India, South Africa, dan New Zealand. Maka keempat tim ini akan masuk ke pertandingan semifinal."
      ]
    },
    {
      "cell_type": "code",
      "execution_count": 39,
      "metadata": {
        "id": "AXta58Q7Baqe"
      },
      "outputs": [],
      "source": [
        "\n",
        "# Tim yang masuk ke semifinal\n",
        "semi = [('New Zealand', 'India'),\n",
        "            ('England', 'South Africa')]\n"
      ]
    },
    {
      "cell_type": "markdown",
      "metadata": {
        "id": "cs4UUObdFdNR"
      },
      "source": [
        "Fungsi untuk menerima input match yang diinginkan dan memprediksi hasilnya.\n",
        "\n"
      ]
    },
    {
      "cell_type": "code",
      "execution_count": 40,
      "metadata": {
        "id": "THP1mOrjBaqe"
      },
      "outputs": [],
      "source": [
        "\n",
        "def clean_and_predict(matches, ranking, final, logreg):\n",
        "\n",
        "    # List untuk menyimpan data posisi tim pada ICC ranking\n",
        "    positions = []\n",
        "\n",
        "    # Loop untuk mendapatkan posisi ICC ranking tiap tim\n",
        "    for match in matches:\n",
        "        positions.append(ranking.loc[ranking['Team'] == match[0],'Position'].iloc[0])\n",
        "        positions.append(ranking.loc[ranking['Team'] == match[1],'Position'].iloc[0])\n",
        "    \n",
        "    # List untuk menyimpan data prediksi\n",
        "    pred_set = []\n",
        "\n",
        "    # Iterators\n",
        "    # i mengiterasi list positions\n",
        "    i = 0\n",
        "    # j mengiterasi list matches\n",
        "    j = 0\n",
        "\n",
        "    while i < len(positions):\n",
        "        dict1 = {}\n",
        "\n",
        "        # Jika posisi dari tim pertama lebih tinggi, \n",
        "        if positions[i] < positions[i + 1]:\n",
        "            # maka tim tersebut menjadi Team_1 dan sebaliknya\n",
        "            dict1.update({'Team_1': matches[j][0], 'Team_2': matches[j][1]})\n",
        "        else:\n",
        "            dict1.update({'Team_1': matches[j][1], 'Team_2': matches[j][0]})\n",
        "\n",
        "\n",
        "        # Dictionary diappend ke pred_set\n",
        "        pred_set.append(dict1)\n",
        "        i += 2\n",
        "        j += 1\n",
        "        \n",
        "    # Convert list ke DataFrame\n",
        "    pred_set = pd.DataFrame(pred_set)\n",
        "    backup_pred_set = pred_set\n",
        "\n",
        "\n",
        "    # Mengulangi seperti langkah diatas tadi\n",
        "    # Mengubah Team_1 dan Team_2 menjadi dummy variable dengan function pd.get_dummies, sehingga akan memiliki value 0 dan 1.\n",
        "    # Kolom yang hilang diisi berdasarkan training model 'final'.\n",
        "    # Lalu drop kolom winning_team.\n",
        "    pred_set = pd.get_dummies(pred_set, prefix=['Team_1', 'Team_2'], columns=['Team_1', 'Team_2'])\n",
        "\n",
        "    missing_cols2 = set(final.columns) - set(pred_set.columns)\n",
        "    for c in missing_cols2:\n",
        "        pred_set[c] = 0\n",
        "    pred_set = pred_set[final.columns]\n",
        "\n",
        "    pred_set = pred_set.drop(['Winner'], axis=1)\n",
        "\n",
        "\n",
        "    # Mencari hasil dari tiap pertandingan\n",
        "    predictions = logreg.predict(pred_set)\n",
        "    for i in range(len(pred_set)):\n",
        "        # Print Tim 1 dan Tim 2 yang bertanding\n",
        "        print(backup_pred_set.iloc[i, 1] + \" and \" + backup_pred_set.iloc[i, 0])\n",
        "        # Jika Tim 1 menang (label 1), maka print dan sebaliknya\n",
        "        if predictions[i] == 1:\n",
        "            print(\"Winner: \" + backup_pred_set.iloc[i, 1])\n",
        "        else:\n",
        "            print(\"Winner: \" + backup_pred_set.iloc[i, 0])\n",
        "        print(\"\")\n"
      ]
    },
    {
      "cell_type": "markdown",
      "metadata": {
        "id": "G_7vzkL7Rtv7"
      },
      "source": [
        "Memanggil fungsi diatas dengan input match semi yang sudah didefinisikan sebelumnya."
      ]
    },
    {
      "cell_type": "code",
      "execution_count": 41,
      "metadata": {
        "colab": {
          "base_uri": "https://localhost:8080/"
        },
        "id": "hBbthHirBaqe",
        "outputId": "896f86a4-3cd5-45ba-bd14-8dfc39b1a04b"
      },
      "outputs": [
        {
          "output_type": "stream",
          "name": "stdout",
          "text": [
            "New Zealand and India\n",
            "Winner: India\n",
            "\n",
            "South Africa and England\n",
            "Winner: England\n",
            "\n"
          ]
        }
      ],
      "source": [
        "\n",
        "clean_and_predict(semi, ranking, final, rf)\n"
      ]
    },
    {
      "cell_type": "markdown",
      "metadata": {
        "id": "QZF5WYDJSQzj"
      },
      "source": [
        "Mencoba prediksi dengan algoritma classifier yang lain."
      ]
    },
    {
      "cell_type": "code",
      "execution_count": 42,
      "metadata": {
        "colab": {
          "base_uri": "https://localhost:8080/"
        },
        "id": "ov2MxjrCR0_R",
        "outputId": "d341684b-346c-4d3a-89ec-91a403b06b0f"
      },
      "outputs": [
        {
          "output_type": "stream",
          "name": "stdout",
          "text": [
            "New Zealand and India\n",
            "Winner: India\n",
            "\n",
            "South Africa and England\n",
            "Winner: England\n",
            "\n"
          ]
        }
      ],
      "source": [
        "\n",
        "# Logistic Regression\n",
        "clean_and_predict(semi, ranking, final, logClassifier)\n"
      ]
    },
    {
      "cell_type": "code",
      "execution_count": 43,
      "metadata": {
        "colab": {
          "base_uri": "https://localhost:8080/"
        },
        "id": "eJD9CNUQSbAi",
        "outputId": "7fb0cb71-1ffe-4004-cc4b-a0bc95621b54"
      },
      "outputs": [
        {
          "output_type": "stream",
          "name": "stdout",
          "text": [
            "New Zealand and India\n",
            "Winner: India\n",
            "\n",
            "South Africa and England\n",
            "Winner: England\n",
            "\n"
          ]
        }
      ],
      "source": [
        "\n",
        "# SVM\n",
        "clean_and_predict(semi, ranking, final, SVMclassifier)\n"
      ]
    },
    {
      "cell_type": "code",
      "execution_count": 44,
      "metadata": {
        "colab": {
          "base_uri": "https://localhost:8080/"
        },
        "id": "5SiIB2kiS7fB",
        "outputId": "f79ea12b-c505-4bf5-91e8-d0ccd9ac5436"
      },
      "outputs": [
        {
          "output_type": "stream",
          "name": "stdout",
          "text": [
            "New Zealand and India\n",
            "Winner: India\n",
            "\n",
            "South Africa and England\n",
            "Winner: England\n",
            "\n"
          ]
        }
      ],
      "source": [
        "\n",
        "# KNN\n",
        "clean_and_predict(semi, ranking, final, KNNclassifier)\n"
      ]
    },
    {
      "cell_type": "code",
      "execution_count": 45,
      "metadata": {
        "colab": {
          "base_uri": "https://localhost:8080/"
        },
        "id": "CVv9t8JkTEUl",
        "outputId": "cf3cf38e-5989-4dc6-aba5-7703d3d6716b"
      },
      "outputs": [
        {
          "output_type": "stream",
          "name": "stdout",
          "text": [
            "New Zealand and India\n",
            "Winner: India\n",
            "\n",
            "South Africa and England\n",
            "Winner: England\n",
            "\n"
          ]
        }
      ],
      "source": [
        "\n",
        "# XGBoost\n",
        "clean_and_predict(semi, ranking, final, xgbclassifier)\n"
      ]
    },
    {
      "cell_type": "markdown",
      "metadata": {
        "id": "FzVbyk_lTL-6"
      },
      "source": [
        "Semua algoritma classifier memberikan hasil prediksi yang sama.  \n",
        "  \n",
        "   \n",
        "Lalu dilanjutkan dengan mencari prediksi untuk pertandingan final."
      ]
    },
    {
      "cell_type": "code",
      "execution_count": 46,
      "metadata": {
        "id": "FNfY-b8cBaqf"
      },
      "outputs": [],
      "source": [
        "\n",
        "# Finals\n",
        "finals = [('India', 'England')]\n"
      ]
    },
    {
      "cell_type": "code",
      "execution_count": 47,
      "metadata": {
        "colab": {
          "base_uri": "https://localhost:8080/"
        },
        "id": "aRmt5yL7Baqf",
        "outputId": "1d48870e-0fa6-4984-91ce-eab32b499993"
      },
      "outputs": [
        {
          "output_type": "stream",
          "name": "stdout",
          "text": [
            "India and England\n",
            "Winner: England\n",
            "\n"
          ]
        }
      ],
      "source": [
        "\n",
        "clean_and_predict(finals, ranking, final, rf)\n"
      ]
    },
    {
      "cell_type": "markdown",
      "metadata": {
        "id": "4KHfeYVnTScl"
      },
      "source": [
        "**KESIMPULAN**  \n",
        "Dari hasil diatas, maka prediksi pemenang ICC World Cup 2019 adalah tim **England**.\n",
        "\n",
        "Beberapa algoritma classifier yang digunakan pada model memiliki accuracy sebagai berikut (diurutkan dari accuracy pada test set tertinggi):\n",
        "1. Random Forest, dengan accuracy pada test set (67.5%) dan training set (70%)\n",
        "2. XGBoost, dengan accuracy pada test set (67.1%) dan training set (69.5%)\n",
        "3. Logistic Regression, dengan accuracy pada test set (66.8%) dan training set (69.1%)\n",
        "4. SVM, dengan accuracy pada test set (66.6%) dan training set (69.6%)\n",
        "5. KNN, dengan accuracy pada test set (60.1%) dan training set (66.2%)\n"
      ]
    },
    {
      "cell_type": "markdown",
      "metadata": {
        "id": "Zg82N9vwY9C4"
      },
      "source": [
        "**SOURCE**  \n",
        "[ICC 2019 Cricket World Cup Prediction using Machine Learning](https://https://towardsdatascience.com/icc-2019-cricket-world-cup-prediction-using-machine-learning-7c42d848ace1)"
      ]
    },
    {
      "cell_type": "markdown",
      "metadata": {
        "id": "iS4R2pR7ZJMM"
      },
      "source": [
        "**MODIFIKASI**\n",
        "1. Menambah algoritma classifier lain untuk digunakan pada training set\n",
        "2. Menyertakan confusion matrix pada tiap classifier\n",
        "3. Menyertakan classification report pada tiap classifier\n",
        "4. Mencoba prediksi dengan algoritma classifier yang lain."
      ]
    }
  ],
  "metadata": {
    "colab": {
      "collapsed_sections": [],
      "name": "ICC 2019 WC RF.ipynb",
      "provenance": []
    },
    "kernelspec": {
      "display_name": "Python 3",
      "language": "python",
      "name": "python3"
    },
    "language_info": {
      "codemirror_mode": {
        "name": "ipython",
        "version": 3
      },
      "file_extension": ".py",
      "mimetype": "text/x-python",
      "name": "python",
      "nbconvert_exporter": "python",
      "pygments_lexer": "ipython3",
      "version": "3.6.7"
    }
  },
  "nbformat": 4,
  "nbformat_minor": 0
}